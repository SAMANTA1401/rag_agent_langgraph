{
 "cells": [
  {
   "cell_type": "code",
   "execution_count": 7,
   "metadata": {},
   "outputs": [],
   "source": [
    "# Example usage\n",
    "url = \"https://builtin.com/artificial-intelligence/ai-companies-roundup\"\n"
   ]
  },
  {
   "cell_type": "code",
   "execution_count": 15,
   "metadata": {},
   "outputs": [],
   "source": [
    "url = \"https://www.datamation.com/featured/ai-companies/\""
   ]
  },
  {
   "cell_type": "code",
   "execution_count": 19,
   "metadata": {},
   "outputs": [],
   "source": [
    "url = \"https://thequantuminsider.com/2023/12/29/quantum-computing-companies/\""
   ]
  },
  {
   "cell_type": "code",
   "execution_count": 20,
   "metadata": {},
   "outputs": [],
   "source": [
    "import requests\n",
    "response = requests.get(url)"
   ]
  },
  {
   "cell_type": "code",
   "execution_count": 21,
   "metadata": {},
   "outputs": [
    {
     "data": {
      "text/plain": [
       "<Response [200]>"
      ]
     },
     "execution_count": 21,
     "metadata": {},
     "output_type": "execute_result"
    }
   ],
   "source": [
    "response"
   ]
  },
  {
   "cell_type": "code",
   "execution_count": 22,
   "metadata": {},
   "outputs": [
    {
     "name": "stdout",
     "output_type": "stream",
     "text": [
      "1. IBM\n",
      "2. GOOGLE QUANTUM AI\n",
      "3. MICROSOFT\n",
      "4. AWS Braket\n",
      "5. ALIBABA GROUP\n",
      "6. BAIDU\n",
      "7. EVIDEN (Atos Computing)\n",
      "8. INTEL\n",
      "9. NVIDIA\n",
      "10. ALICE & BOB\n",
      "11. ALPINE QUANTUM TECHNOLOGIES\n",
      "12. ANYON SYSTEMS\n",
      "13. ATLANTIC QUANTUM\n",
      "14. ATOM COMPUTING\n",
      "15. BLEXIMO\n",
      "16. C12 QUANTUM ELECTRONICS\n",
      "17. D-WAVE\n",
      "18. DIRAQ\n",
      "19. EEROQ\n",
      "20. INFLEQTION  (formerly ColdQuanta)\n",
      "21. IQM\n",
      "22. IONQ\n",
      "23. NORD QUANTIQUE\n",
      "24. ORCA COMPUTING\n",
      "25. ORIGIN QUANTUM\n",
      "26. OXFORD IONICS\n",
      "27. OXFORD QUANTUM CIRCUITS\n",
      "28. PASQAL\n",
      "29. PHOTONIC INC\n",
      "30. PLANQC\n",
      "31. PSIQUANTUM\n",
      "32. QUANTUM COMPUTING INCORPORATED\n",
      "33. QILIMANJARO\n",
      "34. QUERA\n",
      "35. QUANDELA\n",
      "36. QUANTWARE\n",
      "37. QUANTINUUM\n",
      "38. QUANTUM BRILLIANCE\n",
      "39. QUANTUM CIRCUITS\n",
      "40. QUANTUM MOTION\n",
      "41. QUANTUM SOURCE\n",
      "42. QUIX QUANTUM\n",
      "43. RIGETTI COMPUTING\n",
      "44. SEEQC\n",
      "45. SILICON QUANTUM COMPUTING\n",
      "46. TURINGQ\n",
      "47. UNIVERSAL QUANTUM\n",
      "48. XANADU\n",
      "49. 1QBIT\n",
      "50. AGNOSTIQ\n",
      "51. ALIRO QUANTUM\n",
      "52. ALGORITHMIQ\n",
      "53. A STAR QUANTUM\n",
      "54. BEIT\n",
      "55. BOSONQ PSI\n",
      "56. ENTROPICA LABS\n",
      "57. HORIZON QUANTUM COMPUTING\n",
      "58. HQS QUANTUM SIMULATIONS\n",
      "59. JIJ\n",
      "60. KUANO\n",
      "61. KVANTIFY\n",
      "62. MULTIVERSE COMPUTING\n",
      "63. PHASECRAFT\n",
      "64. POLARISQB\n",
      "65. PROTEINQURE\n",
      "66. QC WARE\n",
      "67. QUANTASTICA\n",
      "68. QUANTUM GENERATIVE MATERIALS\n",
      "69. QUBIT PHARMACEUTICALS\n",
      "70. QUNASYS\n",
      "71. RIVERLANE\n",
      "72. SANDBOXAQ\n",
      "73. STRANGEWORKS\n",
      "74. TERRA QUANTUM\n",
      "75. ZAPATA AI\n",
      "76. CLASSIQ\n",
      "77. QUANTUM MACHINES\n",
      "78. QUANTROLOX\n",
      "79. Q-CTRL\n",
      "Featured News\n",
      "Navigate\n",
      "Projects\n",
      "Contact Us\n",
      "Legal\n",
      "Thank you!\n",
      "Thank you!\n"
     ]
    }
   ],
   "source": [
    "from bs4 import BeautifulSoup\n",
    "\n",
    "soup = BeautifulSoup(response.text, 'html.parser')\n",
    "\n",
    "# Using find method\n",
    "# text_element = soup.find('h3', class_='title')\n",
    "# text_value = text_element.text.strip()\n",
    "# print(text_value)\n",
    "\n",
    "# Using find_all method\n",
    "text_elements = soup.find_all('h4' ) #class_='title'\n",
    "for element in text_elements:\n",
    "    print(element.text.strip())"
   ]
  },
  {
   "cell_type": "markdown",
   "metadata": {},
   "source": []
  }
 ],
 "metadata": {
  "kernelspec": {
   "display_name": "Python 3",
   "language": "python",
   "name": "python3"
  },
  "language_info": {
   "codemirror_mode": {
    "name": "ipython",
    "version": 3
   },
   "file_extension": ".py",
   "mimetype": "text/x-python",
   "name": "python",
   "nbconvert_exporter": "python",
   "pygments_lexer": "ipython3",
   "version": "3.11.0"
  }
 },
 "nbformat": 4,
 "nbformat_minor": 2
}
