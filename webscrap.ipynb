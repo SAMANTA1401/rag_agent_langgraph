{
 "cells": [
  {
   "cell_type": "code",
   "execution_count": 2,
   "metadata": {},
   "outputs": [],
   "source": [
    "# Example usage\n",
    "url = \"https://builtin.com/artificial-intelligence/ai-companies-roundup\"\n"
   ]
  },
  {
   "cell_type": "code",
   "execution_count": 15,
   "metadata": {},
   "outputs": [],
   "source": [
    "url = \"https://www.datamation.com/featured/ai-companies/\""
   ]
  },
  {
   "cell_type": "code",
   "execution_count": 19,
   "metadata": {},
   "outputs": [],
   "source": [
    "url = \"https://thequantuminsider.com/2023/12/29/quantum-computing-companies/\""
   ]
  },
  {
   "cell_type": "code",
   "execution_count": 15,
   "metadata": {},
   "outputs": [],
   "source": [
    "url = \"https://www.khanacademy.org/science/ap-biology/cellular-energetics/photosynthesis/a/intro-to-photosynthesis\""
   ]
  },
  {
   "cell_type": "code",
   "execution_count": 28,
   "metadata": {},
   "outputs": [],
   "source": [
    "url = 'https://www.britannica.com/science/photosynthesis'"
   ]
  },
  {
   "cell_type": "code",
   "execution_count": 29,
   "metadata": {},
   "outputs": [],
   "source": [
    "import requests\n",
    "response = requests.get(url)"
   ]
  },
  {
   "cell_type": "code",
   "execution_count": 30,
   "metadata": {},
   "outputs": [
    {
     "data": {
      "text/plain": [
       "<Response [200]>"
      ]
     },
     "execution_count": 30,
     "metadata": {},
     "output_type": "execute_result"
    }
   ],
   "source": [
    "response"
   ]
  },
  {
   "cell_type": "code",
   "execution_count": 33,
   "metadata": {},
   "outputs": [
    {
     "name": "stdout",
     "output_type": "stream",
     "text": [
      "Our editors will review what you’ve submitted and determine whether to revise the article.\n",
      "Photosynthesis is critical for the existence of the vast majority of life on Earth. It is the way in which virtually all energy in the biosphere becomes available to living things. As primary producers, photosynthetic organisms form the base of Earth’s food webs and are consumed directly or indirectly by all higher life-forms. Additionally, almost all the oxygen in the atmosphere is due to the process of photosynthesis. If photosynthesis ceased, there would soon be little food or other organic matter on Earth, most organisms would disappear, and Earth’s atmosphere would eventually become nearly devoid of gaseous oxygen.\n",
      "The process of photosynthesis is commonly written as: 6CO2 + 6H2O → C6H12O6 + 6O2. This means that the reactants, six carbon dioxide molecules and six water molecules, are converted by light energy captured by chlorophyll (implied by the arrow) into a sugar molecule and six oxygen molecules, the products. The sugar is used by the organism, and the oxygen is released as a by-product.\n",
      "The ability to photosynthesize is found in both eukaryotic and prokaryotic organisms. The most well-known examples are plants, as all but a very few parasitic or mycoheterotrophic species contain chlorophyll and produce their own food. Algae are the other dominant group of eukaryotic photosynthetic organisms. All algae, which include massive kelps and microscopic diatoms, are important primary producers. Cyanobacteria and certain sulfur bacteria are photosynthetic prokaryotes, in whom photosynthesis evolved. No animals are thought to be independently capable of photosynthesis, though the emerald green sea slug can temporarily incorporate algae chloroplasts in its body for food production.\n",
      "photosynthesis,  the process by which green plants and certain other organisms transform light energy into chemical energy. During photosynthesis in green plants, light energy is captured and used to convert water, carbon dioxide, and minerals into oxygen and energy-rich organic compounds.\n",
      "It would be impossible to overestimate the importance of photosynthesis in the maintenance of life on Earth. If photosynthesis ceased, there would soon be little food or other organic matter on Earth. Most organisms would disappear, and in time Earth’s atmosphere would become nearly devoid of gaseous oxygen. The only organisms able to exist under such conditions would be the chemosynthetic bacteria, which can utilize the chemical energy of certain inorganic compounds and thus are not dependent on the conversion of light energy.\n",
      "Energy produced by photosynthesis carried out by plants millions of years ago is responsible for the fossil fuels (i.e., coal, oil, and gas) that power industrial society. In past ages, green plants and small organisms that fed on plants increased faster than they were consumed, and their remains were deposited in Earth’s crust by sedimentation and other geological processes. There, protected from oxidation, these organic remains were slowly converted to fossil fuels. These fuels not only provide much of the energy used in factories, homes, and transportation but also serve as the raw material for plastics and other synthetic products. Unfortunately, modern civilization is using up in a few centuries the excess of photosynthetic production accumulated over millions of years. Consequently, the carbon dioxide that has been removed from the air to make carbohydrates in photosynthesis over millions of years is being returned at an incredibly rapid rate. The carbon dioxide concentration in Earth’s atmosphere is rising the fastest it ever has in Earth’s history, and this phenomenon is expected to have major implications on Earth’s climate.\n",
      "Requirements for food, materials, and energy in a world where human population is rapidly growing have created a need to increase both the amount of photosynthesis and the efficiency of converting photosynthetic output into products useful to people. One response to those needs—the so-called Green Revolution, begun in the mid-20th century—achieved enormous improvements in agricultural yield through the use of chemical fertilizers, pest and plant-disease control, plant breeding, and mechanized tilling, harvesting, and crop processing. This effort limited severe famines to a few areas of the world despite rapid population growth, but it did not eliminate widespread malnutrition. Moreover, beginning in the early 1990s, the rate at which yields of major crops increased began to decline. This was especially true for rice in Asia. Rising costs associated with sustaining high rates of agricultural production, which required ever-increasing inputs of fertilizers and pesticides and constant development of new plant varieties, also became problematic for farmers in many countries.\n",
      "A second agricultural revolution, based on plant genetic engineering, was forecast to lead to increases in plant productivity and thereby partially alleviate malnutrition. Since the 1970s, molecular biologists have possessed the means to alter a plant’s genetic material (deoxyribonucleic acid, or DNA) with the aim of achieving improvements in disease and drought resistance, product yield and quality, frost hardiness, and other desirable properties. However, such traits are inherently complex, and the process of making changes to crop plants through genetic engineering has turned out to be more complicated than anticipated. In the future such genetic engineering may result in improvements in the process of photosynthesis, but by the first decades of the 21st century, it had yet to demonstrate that it could dramatically increase crop yields.\n",
      "Another intriguing area in the study of photosynthesis has been the discovery that certain animals are able to convert light energy into chemical energy. The emerald green sea slug (Elysia chlorotica), for example, acquires genes and chloroplasts from Vaucheria litorea, an alga it consumes, giving it a limited ability to produce chlorophyll. When enough chloroplasts are assimilated, the slug may forgo the ingestion of food. The pea aphid (Acyrthosiphon pisum) can harness light to manufacture the energy-rich compound adenosine triphosphate (ATP); this ability has been linked to the aphid’s manufacture of carotenoid pigments.\n",
      "The study of photosynthesis began in 1771 with observations made by the English clergyman and scientist Joseph Priestley. Priestley had burned a candle in a closed container until the air within the container could no longer support combustion. He then placed a sprig of mint plant in the container and discovered that after several days the mint had produced some substance (later recognized as oxygen) that enabled the confined air to again support combustion. In 1779 the Dutch physician Jan Ingenhousz expanded upon Priestley’s work, showing that the plant had to be exposed to light if the combustible substance (i.e., oxygen) was to be restored. He also demonstrated that this process required the presence of the green tissues of the plant.\n",
      "In 1782 it was demonstrated that the combustion-supporting gas (oxygen) was formed at the expense of another gas, or “fixed air,” which had been identified the year before as carbon dioxide. Gas-exchange experiments in 1804 showed that the gain in weight of a plant grown in a carefully weighed pot resulted from the uptake of carbon, which came entirely from absorbed carbon dioxide, and water taken up by plant roots; the balance is oxygen, released back to the atmosphere. Almost half a century passed before the concept of chemical energy had developed sufficiently to permit the discovery (in 1845) that light energy from the sun is stored as chemical energy in products formed during photosynthesis.\n",
      "In chemical terms, photosynthesis is a light-energized oxidation–reduction process. (Oxidation refers to the removal of electrons from a molecule; reduction refers to the gain of electrons by a molecule.) In plant photosynthesis, the energy of light is used to drive the oxidation of water (H2O), producing oxygen gas (O2), hydrogen ions (H+), and electrons. Most of the removed electrons and hydrogen ions ultimately are transferred to carbon dioxide (CO2), which is reduced to organic products. Other electrons and hydrogen ions are used to reduce nitrate and sulfate to amino and sulfhydryl groups in amino acids, which are the building blocks of proteins. In most green cells, carbohydrates—especially starch and the sugar sucrose—are the major direct organic products of photosynthesis. The overall reaction in which carbohydrates—represented by the general formula (CH2O)—are formed during plant photosynthesis can be indicated by the following equation:\n",
      "This equation is merely a summary statement, for the process of photosynthesis actually involves numerous reactions catalyzed by enzymes (organic catalysts). These reactions occur in two stages: the “light” stage, consisting of photochemical (i.e., light-capturing) reactions; and the “dark” stage, comprising chemical reactions controlled by enzymes. During the first stage, the energy of light is absorbed and used to drive a series of electron transfers, resulting in the synthesis of ATP and the electron-donor-reduced nicotine adenine dinucleotide phosphate (NADPH). During the dark stage, the ATP and NADPH formed in the light-capturing reactions are used to reduce carbon dioxide to organic carbon compounds. This assimilation of inorganic carbon into organic compounds is called carbon fixation.\n",
      "During the 20th century, comparisons between photosynthetic processes in green plants and in certain photosynthetic sulfur bacteria provided important information about the photosynthetic mechanism. Sulfur bacteria use hydrogen sulfide (H2S) as a source of hydrogen atoms and produce sulfur instead of oxygen during photosynthesis. The overall reaction is\n",
      "In the 1930s Dutch biologist Cornelis van Niel recognized that the utilization of carbon dioxide to form organic compounds was similar in the two types of photosynthetic organisms. Suggesting that differences existed in the light-dependent stage and in the nature of the compounds used as a source of hydrogen atoms, he proposed that hydrogen was transferred from hydrogen sulfide (in bacteria) or water (in green plants) to an unknown acceptor (called A), which was reduced to H2A. During the dark reactions, which are similar in both bacteria and green plants, the reduced acceptor (H2A) reacted with carbon dioxide (CO2) to form carbohydrate (CH2O) and to oxidize the unknown acceptor to A. This putative reaction can be represented as:\n",
      "Van Niel’s proposal was important because the popular (but incorrect) theory had been that oxygen was removed from carbon dioxide (rather than hydrogen from water, releasing oxygen) and that carbon then combined with water to form carbohydrate (rather than the hydrogen from water combining with CO2 to form CH2O).\n",
      "By 1940 chemists were using heavy isotopes to follow the reactions of photosynthesis. Water marked with an isotope of oxygen (18O) was used in early experiments. Plants that photosynthesized in the presence of water containing H218O produced oxygen gas containing 18O; those that photosynthesized in the presence of normal water produced normal oxygen gas. These results provided definitive support for van Niel’s theory that the oxygen gas produced during photosynthesis is derived from water.\n"
     ]
    }
   ],
   "source": [
    "from bs4 import BeautifulSoup\n",
    "\n",
    "soup = BeautifulSoup(response.text, 'html.parser')\n",
    "\n",
    "# Using find method\n",
    "# text_element = soup.find('h3', class_='title')\n",
    "# text_value = text_element.text.strip()\n",
    "# print(text_value)\n",
    "\n",
    "# Using find_all method\n",
    "text_elements = soup.find_all(class_=\"topic-paragraph\" ) #class_='title'\n",
    "# text_elements = soup.find_all(class_='paragraph')\n",
    "text_elements = soup.find_all('p')\n",
    "for element in text_elements:\n",
    "    print(element.text.strip())"
   ]
  },
  {
   "cell_type": "code",
   "execution_count": 34,
   "metadata": {},
   "outputs": [],
   "source": [
    "from bs4 import BeautifulSoup\n",
    "\n",
    "soup = BeautifulSoup(response.text, 'html.parser')\n",
    "\n",
    "# Using find method\n",
    "# text_element = soup.find('h3', class_='title')\n",
    "# text_value = text_element.text.strip()\n",
    "# print(text_value)\n",
    "\n",
    "# Using find_all method\n",
    "img = soup.find_all('img') #class_='title'\n",
    "# for element in text_elements:\n",
    "#     print(element.text.strip())"
   ]
  },
  {
   "cell_type": "code",
   "execution_count": 35,
   "metadata": {},
   "outputs": [
    {
     "data": {
      "text/plain": [
       "[<img alt=\"Encyclopedia Britannica\" class=\"global-nav-logo global-nav-logo-left\" loading=\"lazy\" src=\"https://cdn.britannica.com/mendel/eb-logo/MendelNewThistleLogo.png\"/>,\n",
       " <img alt=\"Encyclopedia Britannica\" class=\"global-nav-center global-nav-logo non-homepage-logo\" loading=\"lazy\" src=\"https://cdn.britannica.com/mendel/eb-logo/MendelNewThistleLogo.png\"/>,\n",
       " <img alt=\"Photosynthesis\" height=\"50\" loading=\"lazy\" src=\"https://cdn.britannica.com/22/94122-004-5EC15559/trees-plants-carbon-dioxide-sunlight-sugars-water.jpg\"/>,\n",
       " <img alt=\"How are plant cells different from animal cells?\" class=\"col-100\" loading=\"lazy\" src=\"https://cdn.britannica.com/17/253817-138-282118FE/plant-cells-animal-cells-cell-science-eukaryotic-botany-zoology.jpg?w=400&amp;h=225&amp;c=crop\"/>,\n",
       " <img alt=\"How does photosynthesis work?\" class=\"col-100\" loading=\"lazy\" src=\"https://cdn.britannica.com/24/223124-138-3517AA3B/did-you-know-photosynthesis-Melissa-Petruzzello.jpg?w=400&amp;h=225&amp;c=crop\"/>,\n",
       " <img alt=\"The relationship between photosynthesis and breathing\" class=\"col-100\" loading=\"lazy\" src=\"https://cdn.britannica.com/92/152192-138-5E7A76B9/role-photosynthesis-glucose-plants-oxygen-production.jpg?w=400&amp;h=225&amp;c=crop\"/>,\n",
       " <img alt=\"Learn about the greenness of plants\" class=\"col-100\" loading=\"lazy\" src=\"https://cdn.britannica.com/20/185620-138-2D26743F/solar-radiation-plants-absorbers-objects-mechanisms-Speculation.jpg?w=400&amp;h=225&amp;c=crop\"/>,\n",
       " <img alt=\"Learn how the layered arrangement of chlorophyll molecules within a leaf increases its photosynthetic output.\" class=\"col-100\" loading=\"lazy\" src=\"https://cdn.britannica.com/21/185621-138-7AA4B2DB/Molecules-chlorophyll-pigment-leaf-green-plants-plant.jpg?w=400&amp;h=225&amp;c=crop\"/>,\n",
       " <img alt=\"Chloroplast structure\" height=\"50\" loading=\"lazy\" src=\"https://cdn.britannica.com/76/53076-004-CA27A032/stacks-membrane-vesicles-stroma-matrix-chlorophyll-membranes.jpg\"/>,\n",
       " <img alt=\"The process of photosynthesis in plants explained\" class=\"col-100\" loading=\"lazy\" src=\"https://cdn.britannica.com/24/73124-138-5377258D/location-importance-mechanisms-photosynthesis.jpg?w=400&amp;h=225&amp;c=crop\"/>,\n",
       " <img alt=\"Diagram of the light reaction of photosynthesis\" height=\"50\" loading=\"lazy\" src=\"https://cdn.britannica.com/07/72207-004-54E6DA8F/energy-electrons-photosynthesis-reaction-hydrogen-ions-photosystems.jpg\"/>,\n",
       " <img alt=\"Photosynthetic electron pathway\" height=\"50\" loading=\"lazy\" src=\"https://cdn.britannica.com/80/3480-004-CE01E409/Flow-electrons-reactions-reaction-stage-photosynthesis-Arrows.jpg\"/>,\n",
       " <img alt=\"Photosynthesis diagram showing how water, light, and carbon dioxide are absorbed by a plant and that oxygen and sugars are produced. Also show a person to illustrate the oxygen/carbon dioxide cycle between plants and animals.\" height=\"200\" loading=\"lazy\" src=\"https://cdn.britannica.com/22/94122-050-93F6BAE0/trees-plants-carbon-dioxide-sunlight-sugars-water.jpg?w=200&amp;h=200&amp;c=crop\" width=\"200\"/>,\n",
       " <img class=\"default\" height=\"200\" loading=\"lazy\" src=\"https://cdn.britannica.com/mendel-resources/3-134/images/shared/default3.png?v=3.134.26\" width=\"200\"/>,\n",
       " <img alt=\"greylag. Flock of Greylag geese during their winter migration at Bosque del Apache National Refugee, New Mexico. greylag goose (Anser anser)\" height=\"200\" loading=\"lazy\" src=\"https://cdn.britannica.com/12/167112-131-ABF5C65B/greylag-Flock-Greylag-geese-winter-migration-goose.jpg?w=200&amp;h=200&amp;c=crop\" width=\"200\"/>,\n",
       " <img alt=\"Plant seedlings emerging from rich fertile soil\" height=\"200\" loading=\"lazy\" src=\"https://cdn.britannica.com/12/204412-131-CBDD37E6/Plant-seedlings-soil.jpg?w=200&amp;h=200&amp;c=crop\" width=\"200\"/>,\n",
       " <img alt=\"Leaves are silhouetted against an orange and yellow sky with twilight. (plants, petioles, nature)\" height=\"200\" loading=\"lazy\" src=\"https://cdn.britannica.com/05/231305-131-D08829E0/Leaves-silhouetted-against-twilight-sky.jpg?w=200&amp;h=200&amp;c=crop\" width=\"200\"/>,\n",
       " <img alt=\"Sunlight shining on leaves. Photosynthesis\" height=\"200\" loading=\"lazy\" src=\"https://cdn.britannica.com/22/214422-050-0462268B/sun-shining-on-leaves-photosynthesis.jpg?w=200&amp;h=200&amp;c=crop\" width=\"200\"/>,\n",
       " <img alt=\"Chlorophyll pigment in chloroplasts within plant cells. Microscopic organelles photosynthesis green\" height=\"200\" loading=\"lazy\" src=\"https://cdn.britannica.com/59/189559-131-E908B878/Chlorophyll-pigment-chloroplasts-plant-cells-organelles.jpg?w=200&amp;h=200&amp;c=crop\" width=\"200\"/>,\n",
       " <img alt=\"Close up of green grass\" height=\"200\" loading=\"lazy\" src=\"https://cdn.britannica.com/22/215522-131-FB1512ED/green-grass-close-up.jpg?w=200&amp;h=200&amp;c=crop\" width=\"200\"/>,\n",
       " <img alt=\"Close-up of crocodile eye; location unknown (rainforest, reptile).\" height=\"200\" loading=\"lazy\" src=\"https://cdn.britannica.com/77/146577-131-3272C02C/Close-up-crocodile-eye-location.jpg?w=200&amp;h=200&amp;c=crop\" width=\"200\"/>,\n",
       " <img alt=\"Encyclopaedia Britannica First Edition: Volume 1, Plate XXXVIII, Figure 2, Ark, Ark of the Covenant, a small chest, coffer, contains Aaron's rod, manna pot, tables of covenant, Schechinah, Divine Presence, oracle, shittim-wood, acacia tree\" height=\"200\" loading=\"lazy\" src=\"https://cdn.britannica.com/12/119812-131-0032F7FC/Encyclopaedia-Britannica-First-Edition-Illustration-Ark-of-the-Covenant.jpg?w=200&amp;h=200&amp;c=crop\" width=\"200\"/>,\n",
       " <img alt=\"An old worn baseball and wood bat\" height=\"200\" loading=\"lazy\" src=\"https://cdn.britannica.com/53/212553-131-B8C3D5AF/Baseball-bat.jpg?w=200&amp;h=200&amp;c=crop\" width=\"200\"/>,\n",
       " <img alt=\"Groups of depositors in front of the closed American Union Bank, New York City. April 26, 1932. Great Depression run on bank crowd\" height=\"200\" loading=\"lazy\" src=\"https://cdn.britannica.com/45/197245-131-26E0911C/Depositors-American-Union-Bank-New-York-York-1932.jpg?w=200&amp;h=200&amp;c=crop\" width=\"200\"/>,\n",
       " <img alt=\"Orange basketball on black background and with low key lighting. Homepage 2010, arts and entertainment, history and society\" height=\"200\" loading=\"lazy\" src=\"https://cdn.britannica.com/31/142331-131-EE300AF6/basketball-Orange-background-lighting-Homepage-entertainment-history-2010.jpg?w=200&amp;h=200&amp;c=crop\" width=\"200\"/>,\n",
       " <img alt=\"Adolf Hitler (Nazi, nazism, German leader).\" height=\"200\" loading=\"lazy\" src=\"https://cdn.britannica.com/58/156058-131-22083D0A/Adolf-Hitler.jpg?w=200&amp;h=200&amp;c=crop\" width=\"200\"/>,\n",
       " <img alt=\"Queen Elizabeth II addresses at opening of Parliament. (Date unknown on photo, but may be 1958, the first time the opening of Parliament was filmed.)\" height=\"200\" loading=\"lazy\" src=\"https://cdn.britannica.com/04/79904-131-6DCAD337/Elizabeth-II-speech-throne-Parliament-state-opening-1958.jpg?w=200&amp;h=200&amp;c=crop\" width=\"200\"/>,\n",
       " <img alt=\"Photosynthesis\" loading=\"eager\" src=\"https://cdn.britannica.com/22/94122-050-93F6BAE0/trees-plants-carbon-dioxide-sunlight-sugars-water.jpg?w=400&amp;h=300&amp;c=crop\"/>,\n",
       " <img alt=\"How are plant cells different from animal cells?\" loading=\"lazy\" src=\"https://cdn.britannica.com/17/253817-138-282118FE/plant-cells-animal-cells-cell-science-eukaryotic-botany-zoology.jpg?w=800&amp;h=450&amp;c=crop\"/>,\n",
       " <img alt=\"Photosynthesis diagram showing how water, light, and carbon dioxide are absorbed by a plant and that oxygen and sugars are produced. Also show a person to illustrate the oxygen/carbon dioxide cycle between plants and animals.\" class=\"rounded-sm mr-15\" loading=\"lazy\" src=\"https://cdn.britannica.com/22/94122-050-93F6BAE0/trees-plants-carbon-dioxide-sunlight-sugars-water.jpg\" width=\"70\">\n",
       " <div class=\"line-clamp clamp-5\">\n",
       " <div class=\"module-title bg-green\">Britannica Quiz</div>\n",
       " <div class=\"font-weight-semi-bold mt-5\">Pop Quiz: 13 Things to Know About Photosynthesis</div>\n",
       " </div>\n",
       " </img>,\n",
       " <img class=\"rounded\" src=\"https://cdn.britannica.com/marketing/BlueThistle.webp\" style=\"max-width: 100px; min-width: 80px\"/>,\n",
       " <img alt=\"Chemical equation.\" class=\"inline-image-baseline\" src=\"https://cdn.britannica.com/36/14436-004-AC264740/chemical-equation.jpg\"/>,\n",
       " <img alt=\"Chemical equation.\" class=\"inline-image-baseline\" src=\"https://cdn.britannica.com/35/14435-004-2C1C2FD7/chemical-equation.jpg\"/>,\n",
       " <img alt=\"Chemical equation.\" class=\"inline-image-baseline\" src=\"https://cdn.britannica.com/34/14434-004-9156BEF3/chemical-equation.jpg\"/>]"
      ]
     },
     "execution_count": 35,
     "metadata": {},
     "output_type": "execute_result"
    }
   ],
   "source": [
    "img"
   ]
  },
  {
   "cell_type": "code",
   "execution_count": null,
   "metadata": {},
   "outputs": [],
   "source": [
    "\n",
    "<script id=\"__NEXT_DATA__\" type=\"application/json\" nonce=\"\">\"{\n",
    "    ...DATA...\n",
    "    }\"\n",
    "</script>\n"
   ]
  },
  {
   "cell_type": "code",
   "execution_count": null,
   "metadata": {},
   "outputs": [],
   "source": [
    "\n",
    "import json\n",
    "import requests\n",
    "from bs4 import BeautifulSoup\n",
    "\n",
    "url = \"https://www.walmart.com/ip/2021-Apple-iPad-Mini-Wi-Fi-64GB-Purple-6th-Generation/996045822\"\n",
    "\n",
    "response = requests.get(url)\n",
    "if response.status_code == 200:\n",
    "    soup = BeautifulSoup(response.text, \"html.parser\")\n",
    "    script_tag = soup.find(\"script\", {\"id\": \"__NEXT_DATA__\"})\n",
    "    if script_tag is not None:\n",
    "        json_blob = json.loads(script_tag.get_text())\n",
    "        product_data = json_blob[\"props\"][\"pageProps\"][\"initialData\"][\"data\"][\"product\"]\n"
   ]
  },
  {
   "cell_type": "code",
   "execution_count": null,
   "metadata": {},
   "outputs": [],
   "source": [
    "\n",
    "import requests\n",
    "\n",
    "response = requests.get(\n",
    "  url='https://proxy.scrapeops.io/v1/',\n",
    "  params={\n",
    "      'api_key': 'YOUR_API_KEY',\n",
    "      'url': 'https://quotes.toscrape.com/', \n",
    "      'country': 'us',\n",
    "  },\n",
    "  timeout=120,\n",
    ")\n",
    "\n",
    "soup = BeautifulSoup(response.content, 'html.parser')\n",
    "\n",
    "## H1 Element\n",
    "print(soup.h1)\n",
    "## --> <h1><a href=\"/\" style=\"text-decoration: none\">Quotes to Scrape</a></h1>\n"
   ]
  },
  {
   "cell_type": "code",
   "execution_count": null,
   "metadata": {},
   "outputs": [],
   "source": [
    "\n",
    "import requests\n",
    "\n",
    "response = requests.get(\n",
    "  url='https://proxy.scrapeops.io/v1/',\n",
    "  params={\n",
    "      'api_key': 'YOUR_API_KEY',\n",
    "      'url': 'https://quotes.toscrape.com/js', \n",
    "      'render_js': True,\n",
    "  },\n",
    "  timeout=120,\n",
    ")\n",
    "\n",
    "soup = BeautifulSoup(response.content, 'html.parser')\n",
    "\n",
    "## H1 Element\n",
    "print(soup.h1)\n",
    "## --> <h1><a href=\"/\" style=\"text-decoration: none\">Quotes to Scrape</a></h1>\n"
   ]
  }
 ],
 "metadata": {
  "kernelspec": {
   "display_name": "Python 3",
   "language": "python",
   "name": "python3"
  },
  "language_info": {
   "codemirror_mode": {
    "name": "ipython",
    "version": 3
   },
   "file_extension": ".py",
   "mimetype": "text/x-python",
   "name": "python",
   "nbconvert_exporter": "python",
   "pygments_lexer": "ipython3",
   "version": "3.11.0"
  }
 },
 "nbformat": 4,
 "nbformat_minor": 2
}
