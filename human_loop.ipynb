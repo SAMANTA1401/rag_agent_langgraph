{
 "cells": [
  {
   "cell_type": "code",
   "execution_count": 1,
   "metadata": {},
   "outputs": [],
   "source": [
    "from typing import Annotated\n",
    "import operator,json\n",
    "from typing import TypedDict, Annotated, Sequence\n",
    "from typing_extensions import TypedDict\n",
    "from langchain_core.messages import BaseMessage\n",
    "from langgraph.checkpoint.memory import MemorySaver\n",
    "from langgraph.graph import StateGraph,END,START\n",
    "from langgraph.graph.message import add_messages\n",
    "from langgraph.prebuilt import ToolNode, tools_condition\n",
    "from langchain_core.tools import tool\n",
    "from langchain_community.tools.tavily_search import TavilySearchResults"
   ]
  },
  {
   "cell_type": "code",
   "execution_count": 2,
   "metadata": {},
   "outputs": [],
   "source": [
    "from langchain_groq import ChatGroq\n",
    "llm=ChatGroq(model_name=\"Gemma2-9b-It\")"
   ]
  },
  {
   "cell_type": "code",
   "execution_count": 3,
   "metadata": {},
   "outputs": [
    {
     "data": {
      "text/plain": [
       "AIMessage(content='Hello! 👋\\n\\nHow can I help you today? 😊\\n', additional_kwargs={}, response_metadata={'token_usage': {'completion_tokens': 15, 'prompt_tokens': 10, 'total_tokens': 25, 'completion_time': 0.027272727, 'prompt_time': 5.1e-07, 'queue_time': 0.01936417, 'total_time': 0.027273237}, 'model_name': 'Gemma2-9b-It', 'system_fingerprint': 'fp_10c08bf97d', 'finish_reason': 'stop', 'logprobs': None}, id='run-e7d4e6f9-a4f6-445d-9d19-350e5d3012fa-0', usage_metadata={'input_tokens': 10, 'output_tokens': 15, 'total_tokens': 25})"
      ]
     },
     "execution_count": 3,
     "metadata": {},
     "output_type": "execute_result"
    }
   ],
   "source": [
    "llm.invoke(\"hi\")"
   ]
  },
  {
   "cell_type": "code",
   "execution_count": 4,
   "metadata": {},
   "outputs": [
    {
     "data": {
      "text/plain": [
       "'Hello! 👋  How can I help you today?\\n'"
      ]
     },
     "execution_count": 4,
     "metadata": {},
     "output_type": "execute_result"
    }
   ],
   "source": [
    "llm.invoke(\"hi\").content"
   ]
  },
  {
   "cell_type": "code",
   "execution_count": 5,
   "metadata": {},
   "outputs": [],
   "source": [
    "@tool\n",
    "def multiply(first_number:int, second_number:int)->int:\n",
    "    \"\"\"multiply two integer number\"\"\"\n",
    "    return first_number * second_number"
   ]
  },
  {
   "cell_type": "code",
   "execution_count": 6,
   "metadata": {},
   "outputs": [
    {
     "name": "stderr",
     "output_type": "stream",
     "text": [
      "C:\\Users\\lenovo\\AppData\\Local\\Temp\\ipykernel_11784\\4272159846.py:1: LangChainDeprecationWarning: The method `BaseTool.__call__` was deprecated in langchain-core 0.1.47 and will be removed in 1.0. Use :meth:`~invoke` instead.\n",
      "  multiply({\"first_number\":24,\"second_number\":364})\n"
     ]
    },
    {
     "data": {
      "text/plain": [
       "8736"
      ]
     },
     "execution_count": 6,
     "metadata": {},
     "output_type": "execute_result"
    }
   ],
   "source": [
    "\n",
    "multiply({\"first_number\":24,\"second_number\":364})"
   ]
  },
  {
   "cell_type": "code",
   "execution_count": 7,
   "metadata": {},
   "outputs": [
    {
     "data": {
      "text/plain": [
       "8736"
      ]
     },
     "execution_count": 7,
     "metadata": {},
     "output_type": "execute_result"
    }
   ],
   "source": [
    "multiply.invoke({\"first_number\":24,\"second_number\":364})"
   ]
  },
  {
   "cell_type": "code",
   "execution_count": 8,
   "metadata": {},
   "outputs": [],
   "source": [
    "\n",
    "@tool\n",
    "def search(query:str):\n",
    "    \"\"\"perform the web search on the user query\"\"\"\n",
    "    tavily=TavilySearchResults()\n",
    "    result=tavily.invoke(query)\n",
    "    return result"
   ]
  },
  {
   "cell_type": "code",
   "execution_count": 9,
   "metadata": {},
   "outputs": [
    {
     "data": {
      "text/plain": [
       "[{'url': 'https://www.usa.gov/presidents',\n",
       "  'content': 'Vice president of the United States\\nThe vice president of the United States presides over the U.S. Senate and takes over the role of president of the United States if the president is unable to perform his or her duties. President of the United States\\nThe president of the United States is the:\\nCurrent president\\nThe 46th and current president of the United States is Joseph R. Biden, Jr. First lady\\nThe First lady of the United States has traditionally been the wife or other close female relative of the president of the United States. Requirements to be eligible to become president\\nAccording to Article II of the U.S. Constitution, the president must:\\nLearn about the U.S. presidential election process.\\n If the vice president is not able to fulfill the duties of president, the role is passed to another leader in the order of presidential succession.\\n'},\n",
       " {'url': 'https://en.wikipedia.org/wiki/List_of_Presidents_of_the_United_States',\n",
       "  'content': 'National Union[l]\\n1864\\nAndrew Johnson\\nDemocratic\\n1872\\nHenry Wilson[e]\\nVacant\\xa0afterNovember 22, 1875\\nVacant\\xa0afterNovember 25, 1885\\n1900\\nVacant\\xa0afterNovember 21, 1899\\nTheodore Roosevelt\\n1904\\nCharles W. Fairbanks\\nVacant\\xa0afterOctober 30, 1912\\n1916\\n1924\\nCharles G. Dawes\\n1936\\n1940\\n1944\\nHenry A. Wallace\\nHarry S. Truman\\n1948\\nAlben W. Barkley\\n1956\\n1964\\nHubert Humphrey\\n1972\\nVacant:October 10\\xa0– December 6, 1973\\nGerald Ford[t]\\nNelson Rockefeller[t]\\n1984\\n1996\\n2004\\n2012\\nSee also\\nNotes\\nReferences\\nWorks cited\\nGeneral\\nExpert studies\\nPresidential biographies\\nOnline sources\\nExternal links He was, and remains, the only U.S. president never affiliated with a political party.[13]\\nPresidents\\n1792\\n1804\\nGeorge Clinton\\n1812\\nVacant\\xa0afterApril 20, 1812\\nElbridge Gerry[e]\\nVacant\\xa0afterNovember 23, 1814\\n Contents\\nList of presidents of the United States\\nThe president of the United States is the head of state and head of government of the United States,[1] indirectly elected to a four-year term via the Electoral College.[2] Four presidents died in office of natural causes (William Henry Harrison, Zachary Taylor, Warren G. Harding, and Franklin D. Roosevelt), four were assassinated (Abraham Lincoln, James A. Garfield, William McKinley, and John F. Kennedy), and one resigned (Richard Nixon, facing impeachment and removal from office).[10] John Tyler was the first vice president to assume the presidency during a presidential term, and set the precedent that a vice president who does so becomes the fully functioning president with his presidency.[11]\\nThroughout most of its history, American politics has been dominated by political parties. 1820\\nNational Republican\\n1832\\nVacant\\xa0afterDecember 28, 1832\\nMartin Van Buren\\nUnaffiliated\\nVacant\\xa0afterApril 18, 1853\\n'},\n",
       " {'url': 'https://en.wikipedia.org/wiki/President_of_the_United_States',\n",
       "  'content': 'The following decade, Woodrow Wilson led the nation to victory during World War I, although Wilson\\'s proposal for the League of Nations was rejected by the Senate.[42]\\nWarren Harding, while popular in office, would see his legacy tarnished by scandals, especially Teapot Dome,[43] and Herbert Hoover quickly became very unpopular after failing to alleviate the Great Depression.[44]\\nImperial presidency\\nThe ascendancy of Franklin D. Roosevelt in 1933 led further toward what historians now describe as the Imperial presidency.[45] Backed by enormous Democratic majorities in Congress and public support for major change, Roosevelt\\'s New Deal dramatically increased the size and scope of the federal government, including more executive agencies.[46]:\\u200a211–12\\u200a The traditionally small presidential staff was greatly expanded, with the Executive Office of the President being created in 1939, none of whom require Senate confirmation.[46]:\\u200a229–231\\u200a Roosevelt\\'s unprecedented re-election to a third and fourth term, the victory of the United States in World War II, and the nation\\'s growing economy all helped established the office as a position of global leadership.[46]:\\u200a269\\u200a His successors, Harry Truman and Dwight D. Eisenhower, each served two terms as the Cold War led the presidency to be viewed as the \"leader of the free world\",[47] while John F. Kennedy was a youthful and popular leader who benefited from the rise of television in the 1960s.[48][49]\\nAfter Lyndon B. Johnson lost popular support due to the Vietnam War and Richard Nixon\\'s presidency collapsed in the Watergate scandal, Congress enacted a series of reforms intended to reassert itself.[50][51] However, his successor, Martin Van Buren, became unpopular after the Panic of 1837,[31] and the death of William Henry Harrison and subsequent poor relations between John Tyler and Congress led to further weakening of the office.[32] Including Van Buren, in the 24 years between 1837 and 1861, six presidential terms would be filled by eight different men, with none serving two terms.[33] The Senate played an important role during this period, with the Great Triumvirate of Henry Clay, Daniel Webster, and John C. Calhoun playing key roles in shaping national policy in the 1830s and 1840s until debates over slavery began pulling the nation apart in the 1850s.[34][35]\\nAbraham Lincoln\\'s leadership during the Civil War has led historians to regard him as one of the nation\\'s greatest presidents.[D] The circumstances of the war and Republican domination of Congress made the office very powerful,[36][37] and Lincoln\\'s re-election in 1864 was the first time a president had been re-elected since Jackson in 1832. Recent presidents have thus increasingly focused on executive orders, agency regulations, and judicial appointments to implement major policies, at the expense of legislation and congressional power.[60] Presidential elections in the 21st century have reflected this continuing polarization, with no candidate except Obama in 2008 winning by more than five percent of the popular vote and two, George W. Bush and Donald Trump, winning in the Electoral College while losing the popular vote.[E]\\nCritics of presidency\\'s evolution\\nThe nation\\'s Founding Fathers expected the Congress, which was the first branch of government described in the Constitution, to be the dominant branch of government; however, they did not expect a strong executive department.[61] However, presidential power has shifted over time, which has resulted in claims that the modern presidency has become too powerful,[62][63] unchecked, unbalanced,[64] and \"monarchist\" in nature.[65] The mechanism has been used by Ronald Reagan (once), George W. Bush (twice), and Joe Biden (once), each in anticipation of surgery.[155][156]\\nThe Twenty-fifth Amendment also provides that the vice president, together with a majority of certain members of the Cabinet, may transfer the presidential powers and duties to the vice president by transmitting a written declaration, to the speaker of the House and the president pro tempore of the Senate, to the effect that the president is unable to discharge his or her powers and duties. The exact degree of authority that the Constitution grants to the president as commander-in-chief has been the subject of much debate throughout history, with Congress at various times granting the president wide authority and at others attempting to restrict that authority.[86] The framers of the Constitution took care to limit the president\\'s powers regarding the military; Alexander Hamilton explained this in Federalist No. 69:\\nThe President is to be commander-in-chief of the army and navy of the United States.\\xa0...'},\n",
       " {'url': 'https://www.whitehouse.gov/about-the-white-house/presidents/',\n",
       "  'content': 'Presidents | The White House The 4th President of the United States The 5th President of the United States The 6th President of the United States The 7th President of the United States The 8th President of the United States The 9th President of the United States The 10th President of the United States The 11th President of the United States The 12th President of the United States The 13th President of the United States The 14th President of the United States The 15th President of the United States The 16th President of the United States The 17th President of the United States The 18th President of the United States Biden\\xa0Jr. THE 46TH PRESIDENT OF THE UNITED STATES'},\n",
       " {'url': 'https://www.thoughtco.com/presidents-and-vice-presidents-chart-4051729',\n",
       "  'content': 'Since 1789 and the election of George Washington, America\\'s first president, 44 individuals have served as the chief executive of the United States (Grover Cleveland was elected for two nonconsecutive terms, so he served as the 22nd and 24th president).\\ufeff\\ufeff\\n The first line of Article II Section 1 of the US Constitution states, \"The executive power shall be vested in a President of the United States of America.\" The 22nd Amendment was passed soon afterward that would limit presidents to only serving two terms or 10 years.\\ufeff\\ufeff\\nThis chart includes the names of all presidents of the United States, as well as links to their biographies. Chart of the Presidents and Vice Presidents\\nUnited States Presidents and Vice Presidents\\n Chart of the Presidents and Vice-Presidents\\n“Presidents.”\\xa0'}]"
      ]
     },
     "execution_count": 9,
     "metadata": {},
     "output_type": "execute_result"
    }
   ],
   "source": [
    "search(\"who is a current president of USA?\")"
   ]
  },
  {
   "cell_type": "code",
   "execution_count": 10,
   "metadata": {},
   "outputs": [],
   "source": [
    "tools=[search,multiply]"
   ]
  },
  {
   "cell_type": "code",
   "execution_count": 11,
   "metadata": {},
   "outputs": [],
   "source": [
    "model_with_tools = llm.bind_tools(tools)"
   ]
  },
  {
   "cell_type": "code",
   "execution_count": 13,
   "metadata": {},
   "outputs": [
    {
     "data": {
      "text/plain": [
       "RunnableBinding(bound=ChatGroq(client=<groq.resources.chat.completions.Completions object at 0x000001C698E14E10>, async_client=<groq.resources.chat.completions.AsyncCompletions object at 0x000001C698B40190>, model_name='Gemma2-9b-It', model_kwargs={}, groq_api_key=SecretStr('**********')), kwargs={'tools': [{'type': 'function', 'function': {'name': 'search', 'description': 'perform the web search on the user query', 'parameters': {'properties': {'query': {'type': 'string'}}, 'required': ['query'], 'type': 'object'}}}, {'type': 'function', 'function': {'name': 'multiply', 'description': 'multiply two integer number', 'parameters': {'properties': {'first_number': {'type': 'integer'}, 'second_number': {'type': 'integer'}}, 'required': ['first_number', 'second_number'], 'type': 'object'}}}]}, config={}, config_factories=[])"
      ]
     },
     "execution_count": 13,
     "metadata": {},
     "output_type": "execute_result"
    }
   ],
   "source": [
    "model_with_tools"
   ]
  },
  {
   "cell_type": "code",
   "execution_count": 12,
   "metadata": {},
   "outputs": [],
   "source": [
    "tool_mapping={tool.name: tool for tool in tools}"
   ]
  },
  {
   "cell_type": "code",
   "execution_count": 14,
   "metadata": {},
   "outputs": [
    {
     "data": {
      "text/plain": [
       "{'search': StructuredTool(name='search', description='perform the web search on the user query', args_schema=<class 'langchain_core.utils.pydantic.search'>, func=<function search at 0x000001C698E0E0C0>),\n",
       " 'multiply': StructuredTool(name='multiply', description='multiply two integer number', args_schema=<class 'langchain_core.utils.pydantic.multiply'>, func=<function multiply at 0x000001C698E0F380>)}"
      ]
     },
     "execution_count": 14,
     "metadata": {},
     "output_type": "execute_result"
    }
   ],
   "source": [
    "tool_mapping"
   ]
  },
  {
   "cell_type": "code",
   "execution_count": 15,
   "metadata": {},
   "outputs": [],
   "source": [
    "response = model_with_tools.invoke(\"who is a current president of USA?\")"
   ]
  },
  {
   "cell_type": "code",
   "execution_count": 16,
   "metadata": {},
   "outputs": [
    {
     "data": {
      "text/plain": [
       "AIMessage(content='', additional_kwargs={'tool_calls': [{'id': 'call_8f65', 'function': {'arguments': '{\"query\":\"who is the current president of the USA\"}', 'name': 'search'}, 'type': 'function'}]}, response_metadata={'token_usage': {'completion_tokens': 87, 'prompt_tokens': 1076, 'total_tokens': 1163, 'completion_time': 0.158181818, 'prompt_time': 0.062931642, 'queue_time': 0.021389191000000002, 'total_time': 0.22111346}, 'model_name': 'Gemma2-9b-It', 'system_fingerprint': 'fp_10c08bf97d', 'finish_reason': 'tool_calls', 'logprobs': None}, id='run-bf9b0081-a980-4492-b159-f3604e6a75af-0', tool_calls=[{'name': 'search', 'args': {'query': 'who is the current president of the USA'}, 'id': 'call_8f65', 'type': 'tool_call'}], usage_metadata={'input_tokens': 1076, 'output_tokens': 87, 'total_tokens': 1163})"
      ]
     },
     "execution_count": 16,
     "metadata": {},
     "output_type": "execute_result"
    }
   ],
   "source": [
    "response"
   ]
  },
  {
   "cell_type": "code",
   "execution_count": 17,
   "metadata": {},
   "outputs": [],
   "source": [
    "tool_details=response.additional_kwargs.get(\"tool_calls\")"
   ]
  },
  {
   "cell_type": "code",
   "execution_count": 18,
   "metadata": {},
   "outputs": [
    {
     "data": {
      "text/plain": [
       "[{'id': 'call_8f65',\n",
       "  'function': {'arguments': '{\"query\":\"who is the current president of the USA\"}',\n",
       "   'name': 'search'},\n",
       "  'type': 'function'}]"
      ]
     },
     "execution_count": 18,
     "metadata": {},
     "output_type": "execute_result"
    }
   ],
   "source": [
    "tool_details"
   ]
  },
  {
   "cell_type": "code",
   "execution_count": 19,
   "metadata": {},
   "outputs": [
    {
     "data": {
      "text/plain": [
       "'search'"
      ]
     },
     "execution_count": 19,
     "metadata": {},
     "output_type": "execute_result"
    }
   ],
   "source": [
    "tool_details[0][\"function\"][\"name\"]"
   ]
  },
  {
   "cell_type": "code",
   "execution_count": 20,
   "metadata": {},
   "outputs": [
    {
     "data": {
      "text/plain": [
       "'{\"query\":\"who is the current president of the USA\"}'"
      ]
     },
     "execution_count": 20,
     "metadata": {},
     "output_type": "execute_result"
    }
   ],
   "source": [
    "tool_details[0][\"function\"][\"arguments\"]"
   ]
  },
  {
   "cell_type": "code",
   "execution_count": 21,
   "metadata": {},
   "outputs": [
    {
     "data": {
      "text/plain": [
       "{'query': 'who is the current president of the USA'}"
      ]
     },
     "execution_count": 21,
     "metadata": {},
     "output_type": "execute_result"
    }
   ],
   "source": [
    "json.loads(tool_details[0][\"function\"][\"arguments\"])"
   ]
  },
  {
   "cell_type": "code",
   "execution_count": 22,
   "metadata": {},
   "outputs": [
    {
     "data": {
      "text/plain": [
       "[{'url': 'https://simple.wikipedia.org/wiki/President_of_the_United_States',\n",
       "  'content': 'The president is also the head of the executive branch of the federal government of the United States and is the chairman of the presidential cabinet.[10]\\nJoe Biden is the 46th and current president of the United States, in office since January 2021.[11]\\nEligibility and requirements[change | change source]\\nArticle II, Section 1, Clause 5 of the constitution states for a person to serve as president must:\\nElection process and presidential terms[change | change source]\\nThe president is elected by the people through the Electoral College to a four-year term, along with the vice presidential candidate or the incumbent vice president of the United States as their running mate.[12] Contents\\nPresident of the United States\\nThe president of the United States (POTUS)[9] is the head of state and head of government of the United States of America and the commander-in-chief of the United States Armed Forces. Executive Office of the President[change | change source]\\nThe Executive Office of the President consists of the offices and agencies that support the work of the president at the center of the executive branch of the United States federal government. President-elect of the United States[change | change source]\\nThe president-elect of the United States is the candidate who has won the United States presidential election and is awaiting inauguration to become the president.\\n The office consists of several offices and agencies, such as the White House Office, the staff working directly for and reporting to the president, including White House staff, the National Security Council, and the Office of Management and Budget.\\n'},\n",
       " {'url': 'https://www.usa.gov/presidents',\n",
       "  'content': 'Vice president of the United States\\nThe vice president of the United States presides over the U.S. Senate and takes over the role of president of the United States if the president is unable to perform his or her duties. President of the United States\\nThe president of the United States is the:\\nCurrent president\\nThe 46th and current president of the United States is Joseph R. Biden, Jr. First lady\\nThe First lady of the United States has traditionally been the wife or other close female relative of the president of the United States. Requirements to be eligible to become president\\nAccording to Article II of the U.S. Constitution, the president must:\\nLearn about the U.S. presidential election process.\\n If the vice president is not able to fulfill the duties of president, the role is passed to another leader in the order of presidential succession.\\n'},\n",
       " {'url': 'https://en.wikipedia.org/wiki/List_of_Presidents_of_the_United_States',\n",
       "  'content': 'National Union[l]\\n1864\\nAndrew Johnson\\nDemocratic\\n1872\\nHenry Wilson[e]\\nVacant\\xa0afterNovember 22, 1875\\nVacant\\xa0afterNovember 25, 1885\\n1900\\nVacant\\xa0afterNovember 21, 1899\\nTheodore Roosevelt\\n1904\\nCharles W. Fairbanks\\nVacant\\xa0afterOctober 30, 1912\\n1916\\n1924\\nCharles G. Dawes\\n1936\\n1940\\n1944\\nHenry A. Wallace\\nHarry S. Truman\\n1948\\nAlben W. Barkley\\n1956\\n1964\\nHubert Humphrey\\n1972\\nVacant:October 10\\xa0– December 6, 1973\\nGerald Ford[t]\\nNelson Rockefeller[t]\\n1984\\n1996\\n2004\\n2012\\nSee also\\nNotes\\nReferences\\nWorks cited\\nGeneral\\nExpert studies\\nPresidential biographies\\nOnline sources\\nExternal links He was, and remains, the only U.S. president never affiliated with a political party.[13]\\nPresidents\\n1792\\n1804\\nGeorge Clinton\\n1812\\nVacant\\xa0afterApril 20, 1812\\nElbridge Gerry[e]\\nVacant\\xa0afterNovember 23, 1814\\n Contents\\nList of presidents of the United States\\nThe president of the United States is the head of state and head of government of the United States,[1] indirectly elected to a four-year term via the Electoral College.[2] Four presidents died in office of natural causes (William Henry Harrison, Zachary Taylor, Warren G. Harding, and Franklin D. Roosevelt), four were assassinated (Abraham Lincoln, James A. Garfield, William McKinley, and John F. Kennedy), and one resigned (Richard Nixon, facing impeachment and removal from office).[10] John Tyler was the first vice president to assume the presidency during a presidential term, and set the precedent that a vice president who does so becomes the fully functioning president with his presidency.[11]\\nThroughout most of its history, American politics has been dominated by political parties. 1820\\nNational Republican\\n1832\\nVacant\\xa0afterDecember 28, 1832\\nMartin Van Buren\\nUnaffiliated\\nVacant\\xa0afterApril 18, 1853\\n'},\n",
       " {'url': 'https://en.wikipedia.org/wiki/President_of_the_United_States',\n",
       "  'content': 'The following decade, Woodrow Wilson led the nation to victory during World War I, although Wilson\\'s proposal for the League of Nations was rejected by the Senate.[42]\\nWarren Harding, while popular in office, would see his legacy tarnished by scandals, especially Teapot Dome,[43] and Herbert Hoover quickly became very unpopular after failing to alleviate the Great Depression.[44]\\nImperial presidency\\nThe ascendancy of Franklin D. Roosevelt in 1933 led further toward what historians now describe as the Imperial presidency.[45] Backed by enormous Democratic majorities in Congress and public support for major change, Roosevelt\\'s New Deal dramatically increased the size and scope of the federal government, including more executive agencies.[46]:\\u200a211–12\\u200a The traditionally small presidential staff was greatly expanded, with the Executive Office of the President being created in 1939, none of whom require Senate confirmation.[46]:\\u200a229–231\\u200a Roosevelt\\'s unprecedented re-election to a third and fourth term, the victory of the United States in World War II, and the nation\\'s growing economy all helped established the office as a position of global leadership.[46]:\\u200a269\\u200a His successors, Harry Truman and Dwight D. Eisenhower, each served two terms as the Cold War led the presidency to be viewed as the \"leader of the free world\",[47] while John F. Kennedy was a youthful and popular leader who benefited from the rise of television in the 1960s.[48][49]\\nAfter Lyndon B. Johnson lost popular support due to the Vietnam War and Richard Nixon\\'s presidency collapsed in the Watergate scandal, Congress enacted a series of reforms intended to reassert itself.[50][51] However, his successor, Martin Van Buren, became unpopular after the Panic of 1837,[31] and the death of William Henry Harrison and subsequent poor relations between John Tyler and Congress led to further weakening of the office.[32] Including Van Buren, in the 24 years between 1837 and 1861, six presidential terms would be filled by eight different men, with none serving two terms.[33] The Senate played an important role during this period, with the Great Triumvirate of Henry Clay, Daniel Webster, and John C. Calhoun playing key roles in shaping national policy in the 1830s and 1840s until debates over slavery began pulling the nation apart in the 1850s.[34][35]\\nAbraham Lincoln\\'s leadership during the Civil War has led historians to regard him as one of the nation\\'s greatest presidents.[D] The circumstances of the war and Republican domination of Congress made the office very powerful,[36][37] and Lincoln\\'s re-election in 1864 was the first time a president had been re-elected since Jackson in 1832. Recent presidents have thus increasingly focused on executive orders, agency regulations, and judicial appointments to implement major policies, at the expense of legislation and congressional power.[60] Presidential elections in the 21st century have reflected this continuing polarization, with no candidate except Obama in 2008 winning by more than five percent of the popular vote and two, George W. Bush and Donald Trump, winning in the Electoral College while losing the popular vote.[E]\\nCritics of presidency\\'s evolution\\nThe nation\\'s Founding Fathers expected the Congress, which was the first branch of government described in the Constitution, to be the dominant branch of government; however, they did not expect a strong executive department.[61] However, presidential power has shifted over time, which has resulted in claims that the modern presidency has become too powerful,[62][63] unchecked, unbalanced,[64] and \"monarchist\" in nature.[65] The mechanism has been used by Ronald Reagan (once), George W. Bush (twice), and Joe Biden (once), each in anticipation of surgery.[155][156]\\nThe Twenty-fifth Amendment also provides that the vice president, together with a majority of certain members of the Cabinet, may transfer the presidential powers and duties to the vice president by transmitting a written declaration, to the speaker of the House and the president pro tempore of the Senate, to the effect that the president is unable to discharge his or her powers and duties. The exact degree of authority that the Constitution grants to the president as commander-in-chief has been the subject of much debate throughout history, with Congress at various times granting the president wide authority and at others attempting to restrict that authority.[86] The framers of the Constitution took care to limit the president\\'s powers regarding the military; Alexander Hamilton explained this in Federalist No. 69:\\nThe President is to be commander-in-chief of the army and navy of the United States.\\xa0...'},\n",
       " {'url': 'https://www.whitehouse.gov/about-the-white-house/presidents/',\n",
       "  'content': 'Presidents | The White House The 4th President of the United States The 5th President of the United States The 6th President of the United States The 7th President of the United States The 8th President of the United States The 9th President of the United States The 10th President of the United States The 11th President of the United States The 12th President of the United States The 13th President of the United States The 14th President of the United States The 15th President of the United States The 16th President of the United States The 17th President of the United States The 18th President of the United States Biden\\xa0Jr. THE 46TH PRESIDENT OF THE UNITED STATES'}]"
      ]
     },
     "execution_count": 22,
     "metadata": {},
     "output_type": "execute_result"
    }
   ],
   "source": [
    "tool_mapping[tool_details[0][\"function\"][\"name\"]].invoke(json.loads(tool_details[0][\"function\"][\"arguments\"]))"
   ]
  },
  {
   "cell_type": "code",
   "execution_count": 23,
   "metadata": {},
   "outputs": [],
   "source": [
    "class AgentState(TypedDict):\n",
    "    messages: Annotated[Sequence[BaseMessage], operator.add]"
   ]
  },
  {
   "cell_type": "code",
   "execution_count": 24,
   "metadata": {},
   "outputs": [],
   "source": [
    "def invoke_model(state:AgentState): # agent\n",
    "    messages = state['messages']\n",
    "    question = messages[-1]   ## Fetching the user question\n",
    "    return {\"messages\":[model_with_tools.invoke(question)]} # response with tools call"
   ]
  },
  {
   "cell_type": "code",
   "execution_count": 25,
   "metadata": {},
   "outputs": [],
   "source": [
    "def invoke_tool(state:AgentState): # tools call\n",
    "    tool_details= state['messages'][-1].additional_kwargs.get(\"tool_calls\", [])[0]\n",
    "    # The function extracts the last message from the state object's messages list.\n",
    "    # It then retrieves the tool_calls value from the additional_kwargs dictionary of the last message. If tool_calls is not present, it defaults to an empty list.\n",
    "    if tool_details is None:\n",
    "        raise Exception(\"no tool call found\")\n",
    "    \n",
    "    print(f'Selected tool: {tool_details.get(\"function\").get(\"name\")}')\n",
    "    \n",
    "    if tool_details.get(\"function\").get(\"name\")==\"search\":\n",
    "        response = input(prompt=f\"[y/n] continue with expensive web search?\")\n",
    "        if response == \"n\":\n",
    "            raise Exception(\"web search discard\")\n",
    "        \n",
    "    response = tool_mapping[tool_details['function']['name']].invoke(json.loads(tool_details.get(\"function\").get(\"arguments\")))\n",
    "    return {\"messages\" : [response]} # response go back to agent"
   ]
  },
  {
   "cell_type": "code",
   "execution_count": 26,
   "metadata": {},
   "outputs": [],
   "source": [
    "\n",
    "def router(state): # routing function for agent \n",
    "    tool_calls = state['messages'][-1].additional_kwargs.get(\"tool_calls\", []) # check if call tools\n",
    "    if len(tool_calls): # if tool calls\n",
    "        return \"tool\" # return tool\n",
    "    else:\n",
    "        return \"end\" # return end"
   ]
  },
  {
   "cell_type": "code",
   "execution_count": 27,
   "metadata": {},
   "outputs": [
    {
     "data": {
      "text/plain": [
       "<langgraph.graph.state.StateGraph at 0x1c698e54bd0>"
      ]
     },
     "execution_count": 27,
     "metadata": {},
     "output_type": "execute_result"
    }
   ],
   "source": [
    "\n",
    "graph = StateGraph(AgentState) ### StateGraph with AgentState\n",
    "\n",
    "graph.add_node(\"ai_assistant\", invoke_model) # agent \n",
    "\n",
    "graph.add_node(\"tool\", invoke_tool) # tool"
   ]
  },
  {
   "cell_type": "code",
   "execution_count": 28,
   "metadata": {},
   "outputs": [
    {
     "data": {
      "text/plain": [
       "<langgraph.graph.state.StateGraph at 0x1c698e54bd0>"
      ]
     },
     "execution_count": 28,
     "metadata": {},
     "output_type": "execute_result"
    }
   ],
   "source": [
    "graph.add_conditional_edges(\"ai_assistant\", router, {\"tool\": \"tool\",\"end\": END,})\n",
    "\n",
    "graph.add_edge(\"tool\", END)\n",
    "\n",
    "#graph.add_edge(\"tool\", \"ai_assistant\")\n",
    "\n",
    "graph.set_entry_point(\"ai_assistant\")"
   ]
  },
  {
   "cell_type": "code",
   "execution_count": 29,
   "metadata": {},
   "outputs": [],
   "source": [
    "\n",
    "app = graph.compile()"
   ]
  },
  {
   "cell_type": "code",
   "execution_count": 30,
   "metadata": {},
   "outputs": [
    {
     "data": {
      "image/png": "[encoded data removed]",
      "text/plain": [
       "<langgraph.graph.state.CompiledStateGraph object at 0x000001C6988AF910>"
      ]
     },
     "execution_count": 30,
     "metadata": {},
     "output_type": "execute_result"
    }
   ],
   "source": [
    "app"
   ]
  },
  {
   "cell_type": "code",
   "execution_count": 31,
   "metadata": {},
   "outputs": [
    {
     "name": "stdout",
     "output_type": "stream",
     "text": [
      "{'messages': [AIMessage(content='', additional_kwargs={'tool_calls': [{'id': 'call_1gze', 'function': {'arguments': '{\"query\":\"upcoming president of USA\"}', 'name': 'search'}, 'type': 'function'}]}, response_metadata={'token_usage': {'completion_tokens': 83, 'prompt_tokens': 1075, 'total_tokens': 1158, 'completion_time': 0.150909091, 'prompt_time': 0.059144324, 'queue_time': 0.047140187, 'total_time': 0.210053415}, 'model_name': 'Gemma2-9b-It', 'system_fingerprint': 'fp_10c08bf97d', 'finish_reason': 'tool_calls', 'logprobs': None}, id='run-b577ab87-b1a3-45ad-98ce-56caeec46be3-0', tool_calls=[{'name': 'search', 'args': {'query': 'upcoming president of USA'}, 'id': 'call_1gze', 'type': 'tool_call'}], usage_metadata={'input_tokens': 1075, 'output_tokens': 83, 'total_tokens': 1158})]}\n",
      "----\n",
      "Selected tool: search\n",
      "{'messages': [[{'url': 'https://www.nbcnews.com/politics/2024-election/trump-wins-election-president-harris-defeat-2024-race-rcna176107', 'content': 'Donald Trump defeats Kamala Harris to become the next U.S. president, NBC News projects BREAKING: Donald Trump is elected 47th president of the United States, NBC News projects Donald Trump defeats Kamala Harris to become the next U.S. president, NBC News projects Donald Trump defeats Kamala Harris to become the next U.S. president, NBC News projects Trump will make history as the 45th and now 47th president, NBC News projects, saying he will fix an ailing country and despite warnings he will rule as an authoritarian. NBC News projects Donald Trump is elected 47th president of the United States NBC News projected the Trump victory over Harris, who was the first woman of color to win a major party nomination for president, early Wednesday morning.'}, {'url': 'https://www.bbc.co.uk/newsround/articles/cz6j8n5j7w7o', 'content': '- BBC Newsround Donald Trump: What happens at the inauguration of the new US president? Donald Trump will officially become the 47th President of the United States at a ceremony called the inauguration. Inauguration day will take place on 20 January 2025 and is the day Donald Trump moves into the White House. Donald Trump will be next US President Inauguration Day is the day the new US President moves into the White House The inauguration is the name given to the ceremony where the new president and vice-president are both sworn in and officially take office. In 2017, outgoing President Barack Obama (on the right) accompanied Donald Trump for his first inauguration About the BBC'}, {'url': 'https://www.unilad.com/news/us-news/donald-trump-president-election-next-steps-latest-115920-20241106', 'content': \"by a mob Trump supporters after he lost to President Elect Joe Biden. January 20 2025 - Trump's inauguration. The 47th Presidential Inauguration will be held on the west front of the US Capitol in Washington D.C on Monday, January 20, 2025. The president-elect and his vice-president-elect, JD Vance, will be sworn in and take office.\"}, {'url': 'https://www.bbc.com/news/articles/c2kxzpwqq25o', 'content': \"President-elect Donald Trump will move back into the White House on Monday after he officially becomes the 47th president of the United States. Vice-President-elect JD Vance will also take the oath of office, joining Trump on stage to officially begin their new administration. Watch: Biden urges Democrats to 'get back up' after Trump win ------------------------------------------------------------- The president addressed Americans from the White House for the first time since Donald Trump's election victory. Harris: Election outcome 'not what we fought for' ------------------------------------------------- The vice-president addressed supporters at Howard University in Washington DC, following her election defeat to Donald Trump. Belfast reacts to Trump's US election victory --------------------------------------------- BBC NI asks people in Belfast how they feel about Donald Trump's victory in the US election.\"}, {'url': 'https://www.voanews.com/a/donald-trump-set-to-assume-us-presidency-again/7942954.html', 'content': 'United States U.S. News All About America. ... The incoming president says he plans to pardon many of the 1,500 supporters of his who stormed the Capitol building on Jan. 6, 2021, to try to block'}]]}\n",
      "----\n"
     ]
    }
   ],
   "source": [
    "\n",
    "for s in app.stream({\"messages\": [\"who is upcoming president of USA?\"]}):\n",
    "    print(list(s.values())[0])\n",
    "    print(\"----\")"
   ]
  },
  {
   "cell_type": "code",
   "execution_count": 32,
   "metadata": {},
   "outputs": [
    {
     "name": "stdout",
     "output_type": "stream",
     "text": [
      "{'messages': [AIMessage(content='', additional_kwargs={'tool_calls': [{'id': 'call_j2kh', 'function': {'arguments': '{\"first_number\":23,\"second_number\":46}', 'name': 'multiply'}, 'type': 'function'}]}, response_metadata={'token_usage': {'completion_tokens': 93, 'prompt_tokens': 1080, 'total_tokens': 1173, 'completion_time': 0.169090909, 'prompt_time': 0.043354499, 'queue_time': 0.020297051000000003, 'total_time': 0.212445408}, 'model_name': 'Gemma2-9b-It', 'system_fingerprint': 'fp_10c08bf97d', 'finish_reason': 'tool_calls', 'logprobs': None}, id='run-6a4cf4c3-7ec8-432e-8df2-5757acc981b6-0', tool_calls=[{'name': 'multiply', 'args': {'first_number': 23, 'second_number': 46}, 'id': 'call_j2kh', 'type': 'tool_call'}], usage_metadata={'input_tokens': 1080, 'output_tokens': 93, 'total_tokens': 1173})]}\n",
      "----\n",
      "Selected tool: multiply\n",
      "{'messages': [1058]}\n",
      "----\n"
     ]
    }
   ],
   "source": [
    "for s in app.stream({\"messages\": [\"what is multiplication of 23 and 46?\"]}):\n",
    "    print(list(s.values())[0])\n",
    "    print(\"----\")"
   ]
  },
  {
   "cell_type": "code",
   "execution_count": 34,
   "metadata": {},
   "outputs": [
    {
     "name": "stdout",
     "output_type": "stream",
     "text": [
      "{'messages': [AIMessage(content='', additional_kwargs={'tool_calls': [{'id': 'call_p35s', 'function': {'arguments': '{\"query\":\"What is the total amount of money exist over the earth?\"}', 'name': 'search'}, 'type': 'function'}]}, response_metadata={'token_usage': {'completion_tokens': 90, 'prompt_tokens': 1080, 'total_tokens': 1170, 'completion_time': 0.163636364, 'prompt_time': 0.059288783, 'queue_time': 0.024610147, 'total_time': 0.222925147}, 'model_name': 'Gemma2-9b-It', 'system_fingerprint': 'fp_10c08bf97d', 'finish_reason': 'tool_calls', 'logprobs': None}, id='run-3f16793e-5066-4dfc-bfb8-1ae3b9809e84-0', tool_calls=[{'name': 'search', 'args': {'query': 'What is the total amount of money exist over the earth?'}, 'id': 'call_p35s', 'type': 'tool_call'}], usage_metadata={'input_tokens': 1080, 'output_tokens': 90, 'total_tokens': 1170})]}\n",
      "----\n",
      "Selected tool: search\n",
      "{'messages': [[{'url': 'https://www.ncesc.com/geographic-faq/how-much-money-has-exists-in-the-world/', 'content': 'How much money has exists in the world? How much money has exists in the world? How much money has exists in the world? How much money has exists in the world? It has been reported that there is approximately $37.474 trillion worth of money in the world in various forms. According to a 2023 report, the total amount of money in the world is roughly $40 trillion in circulation. How much cash money exists in the world? Estimates suggest that all the money in circulation is worth $8 trillion U.S. dollars. How much money is 1% in the world? How many $10000 dollar bills are there? Are $2 dollar bills rare?'}, {'url': 'https://www.gobankingrates.com/money/economy/how-much-money-is-in-the-world/', 'content': \"The total amount of money in the world can be measured and expressed in many different ways, so it's difficult to give a specific answer. Money Supply If you're curious about the total value of notes and coins in circulation, the Bank for International Settlements estimated it to be $8,275,000,000,000, or $8.28 trillion U.S. dollars, across\"}, {'url': 'https://www.supermoney.com/how-much-money-is-in-the-world-in-2024-the-way-money-works', 'content': 'The total amount of money in the world is a complex calculation that includes various forms of money, from physical currency to bank deposits and digital assets. As of 2024, The broadest measure, M3, includes everything from physical currency to larger institutional assets and is estimated to total around $120 trillion in 2024.'}, {'url': 'https://worldpopulationreview.com/metrics/how-much-money-is-in-the-world', 'content': 'The US Dollar is the most popular currency in the world. Many countries around the world accept the US Dollar alongside their own currency and it can be easily exchanged everywhere else. Therefore, in Kuwaiti Dinar, the total value of all currency in the world is just 24.7 trillion KD. Therefore, in Iranian Rial, the total value of all currency in the world is an unfathomable 3.36 Quintillion IRR. Therefore if we equate the estimated $80 trillion that exists in the world today to the extinct Zimbabwean Dollar, the total value of all currency on Earth is about 20 octillion ZWD. So the short answer to the question “How much money is in the World?” is $80 trillion.'}, {'url': 'https://www.moneydigest.com/1486588/how-much-money-exists-world/', 'content': 'Banking Credit Cards Budgeting Investing Taxes Shopping History Features If we expand our definition of money to include not only bills and coins, but the balances held in checking and savings accounts, traveler\\'s checks, and other highly liquid (i.e., easily convertible to cash) assets as well, we arrive at what\\'s called the \"M1 money supply.\" Per Visual Capitalist, the global M1 money supply stands at $48.9 trillion as of late November 2022. If you\\'re wondering about the money supply of U.S. dollars only, the Federal Reserve Bank of St. Louis tells us that as of November 2023, the Monetary Base (aka \"M0\"), made up of cash and coins only, is $5.7 trillion, while M1 is $18 trillion, and M2 stands at $20.8 trillion.'}]]}\n",
      "----\n"
     ]
    }
   ],
   "source": [
    "\n",
    "for s in app.stream({\"messages\": [\"what is the total amount of money exist over the earth?\"]}):\n",
    "    print(list(s.values())[0])\n",
    "    print(\"----\")"
   ]
  },
  {
   "cell_type": "code",
   "execution_count": 35,
   "metadata": {},
   "outputs": [],
   "source": [
    "\n",
    "from langchain_groq import ChatGroq\n",
    "llm=ChatGroq(model_name=\"Gemma2-9b-It\")"
   ]
  },
  {
   "cell_type": "code",
   "execution_count": 36,
   "metadata": {},
   "outputs": [],
   "source": [
    "\n",
    "class AgentState(TypedDict):\n",
    "    messages: Annotated[list, add_messages]"
   ]
  },
  {
   "cell_type": "code",
   "execution_count": 37,
   "metadata": {},
   "outputs": [],
   "source": [
    "tavily=TavilySearchResults()"
   ]
  },
  {
   "cell_type": "code",
   "execution_count": 38,
   "metadata": {},
   "outputs": [],
   "source": [
    "tools = [tavily]"
   ]
  },
  {
   "cell_type": "code",
   "execution_count": 39,
   "metadata": {},
   "outputs": [],
   "source": [
    "llm_with_tools = llm.bind_tools(tools)"
   ]
  },
  {
   "cell_type": "code",
   "execution_count": 40,
   "metadata": {},
   "outputs": [],
   "source": [
    "def ai_assistant(state: AgentState): # agent\n",
    "    return {\"messages\": [llm_with_tools.invoke(state[\"messages\"])]} # call tools"
   ]
  },
  {
   "cell_type": "code",
   "execution_count": 41,
   "metadata": {},
   "outputs": [],
   "source": [
    "\n",
    "memory = MemorySaver()"
   ]
  },
  {
   "cell_type": "code",
   "execution_count": 42,
   "metadata": {},
   "outputs": [
    {
     "data": {
      "text/plain": [
       "<langgraph.graph.state.StateGraph at 0x1c699a3f310>"
      ]
     },
     "execution_count": 42,
     "metadata": {},
     "output_type": "execute_result"
    }
   ],
   "source": [
    "\n",
    "graph_builder = StateGraph(AgentState)\n",
    "graph_builder.add_node(\"ai_assistant\", ai_assistant)\n",
    "\n",
    "tool_node = ToolNode(tools=tools)\n",
    "graph_builder.add_node(\"tools\", tool_node)"
   ]
  },
  {
   "cell_type": "code",
   "execution_count": 43,
   "metadata": {},
   "outputs": [
    {
     "data": {
      "text/plain": [
       "<langgraph.graph.state.StateGraph at 0x1c699a3f310>"
      ]
     },
     "execution_count": 43,
     "metadata": {},
     "output_type": "execute_result"
    }
   ],
   "source": [
    "graph_builder.add_edge(START, \"ai_assistant\")\n",
    "\n",
    "graph_builder.add_conditional_edges(\n",
    "    \"ai_assistant\",\n",
    "    tools_condition,\n",
    ")\n",
    "graph_builder.add_edge(\"tools\", \"ai_assistant\")"
   ]
  },
  {
   "cell_type": "code",
   "execution_count": 44,
   "metadata": {},
   "outputs": [],
   "source": [
    "\n",
    "app2 = graph_builder.compile(\n",
    "    checkpointer=memory,\n",
    "    # This is new!\n",
    "    interrupt_before=[\"tools\"], # ask yes or no for searh tools calling\n",
    "    # Note: can also interrupt __after__ tools, if desired.\n",
    "    # interrupt_after=[\"tools\"]\n",
    ")"
   ]
  },
  {
   "cell_type": "code",
   "execution_count": null,
   "metadata": {},
   "outputs": [],
   "source": [
    "\n",
    "# This code snippet is compiling a graph using the graph_builder.compile method. Here's what's happening:\n",
    "# Compilation Options\n",
    "# checkpointer=memory: This option specifies that the graph should use an in-memory checkpointer. This means that the graph's state will be stored in memory, allowing for faster checkpointing and restoration.\n",
    "# Interruption Points\n",
    "# interrupt_before=[\"tools\"]: This option specifies that the graph should interrupt execution before reaching the \"tools\" node. This allows for external intervention or processing before the \"tools\" node is executed.\n",
    "# Alternative Interruption Point\n",
    "# interrupt_after=[\"tools\"]: This is a commented-out option that would interrupt execution after the \"tools\" node has been executed. This can be useful if you need to perform some processing or intervention after the \"tools\" node has completed.\n",
    "# By setting interrupt_before=[\"tools\"], the graph will pause execution before reaching the \"tools\" node, allowing for external intervention or processing."
   ]
  },
  {
   "cell_type": "code",
   "execution_count": 45,
   "metadata": {},
   "outputs": [
    {
     "data": {
      "image/png": "[encoded data removed]",
      "text/plain": [
       "<langgraph.graph.state.CompiledStateGraph object at 0x000001C699A3CD90>"
      ]
     },
     "execution_count": 45,
     "metadata": {},
     "output_type": "execute_result"
    }
   ],
   "source": [
    "app2"
   ]
  },
  {
   "cell_type": "code",
   "execution_count": 83,
   "metadata": {},
   "outputs": [],
   "source": [
    "\n",
    "user_input = \"what is current capital of india?\" # query is capital of india that is generating by tavily search\n",
    "config = {\"configurable\": {\"thread_id\": \"1\"}}"
   ]
  },
  {
   "cell_type": "code",
   "execution_count": 84,
   "metadata": {},
   "outputs": [],
   "source": [
    "\n",
    "# The config is the **second positional argument** to stream() or invoke()!\n",
    "events = app2.stream(\n",
    "    {\"messages\": [(\"user\", user_input)]}, config, stream_mode=\"values\"\n",
    ")"
   ]
  },
  {
   "cell_type": "code",
   "execution_count": 85,
   "metadata": {},
   "outputs": [
    {
     "data": {
      "text/plain": [
       "<generator object Pregel.stream at 0x000001C698CB7870>"
      ]
     },
     "execution_count": 85,
     "metadata": {},
     "output_type": "execute_result"
    }
   ],
   "source": [
    "events"
   ]
  },
  {
   "cell_type": "code",
   "execution_count": 86,
   "metadata": {},
   "outputs": [
    {
     "name": "stdout",
     "output_type": "stream",
     "text": [
      "================================\u001b[1m Human Message \u001b[0m=================================\n",
      "\n",
      "what is current capital of india?\n",
      "==================================\u001b[1m Ai Message \u001b[0m==================================\n",
      "\n",
      "New Delhi\n"
     ]
    }
   ],
   "source": [
    "for event in events:\n",
    "    if \"messages\" in event:\n",
    "        event[\"messages\"][-1].pretty_print()"
   ]
  },
  {
   "cell_type": "code",
   "execution_count": 50,
   "metadata": {},
   "outputs": [],
   "source": [
    "snapshot = app2.get_state(config)"
   ]
  },
  {
   "cell_type": "code",
   "execution_count": 51,
   "metadata": {},
   "outputs": [
    {
     "data": {
      "text/plain": [
       "StateSnapshot(values={'messages': [HumanMessage(content='what is current a capital of india?', additional_kwargs={}, response_metadata={}, id='67cb5898-51c1-4543-bbc1-01a35148f406'), AIMessage(content='', additional_kwargs={'tool_calls': [{'id': 'call_ckad', 'function': {'arguments': '{\"query\":\"capital of india\"}', 'name': 'tavily_search_results_json'}, 'type': 'function'}]}, response_metadata={'token_usage': {'completion_tokens': 87, 'prompt_tokens': 989, 'total_tokens': 1076, 'completion_time': 0.158181818, 'prompt_time': 0.039906401, 'queue_time': 0.020924778999999998, 'total_time': 0.198088219}, 'model_name': 'Gemma2-9b-It', 'system_fingerprint': 'fp_10c08bf97d', 'finish_reason': 'tool_calls', 'logprobs': None}, id='run-5b7cd0d1-5814-4b4e-80a8-3d9ffd7824d8-0', tool_calls=[{'name': 'tavily_search_results_json', 'args': {'query': 'capital of india'}, 'id': 'call_ckad', 'type': 'tool_call'}], usage_metadata={'input_tokens': 989, 'output_tokens': 87, 'total_tokens': 1076})]}, next=('tools',), config={'configurable': {'thread_id': '1', 'checkpoint_ns': '', 'checkpoint_id': '1efd71aa-67e9-6745-8001-7a2bc3421f05'}}, metadata={'source': 'loop', 'writes': {'ai_assistant': {'messages': [AIMessage(content='', additional_kwargs={'tool_calls': [{'id': 'call_ckad', 'function': {'arguments': '{\"query\":\"capital of india\"}', 'name': 'tavily_search_results_json'}, 'type': 'function'}]}, response_metadata={'token_usage': {'completion_tokens': 87, 'prompt_tokens': 989, 'total_tokens': 1076, 'completion_time': 0.158181818, 'prompt_time': 0.039906401, 'queue_time': 0.020924778999999998, 'total_time': 0.198088219}, 'model_name': 'Gemma2-9b-It', 'system_fingerprint': 'fp_10c08bf97d', 'finish_reason': 'tool_calls', 'logprobs': None}, id='run-5b7cd0d1-5814-4b4e-80a8-3d9ffd7824d8-0', tool_calls=[{'name': 'tavily_search_results_json', 'args': {'query': 'capital of india'}, 'id': 'call_ckad', 'type': 'tool_call'}], usage_metadata={'input_tokens': 989, 'output_tokens': 87, 'total_tokens': 1076})]}}, 'thread_id': '1', 'step': 1, 'parents': {}}, created_at='2025-01-20T10:38:13.421037+00:00', parent_config={'configurable': {'thread_id': '1', 'checkpoint_ns': '', 'checkpoint_id': '1efd71aa-58c4-62bf-8000-98f09b536f73'}}, tasks=(PregelTask(id='db4f1c13-e982-af70-2cd9-92b7a17129a9', name='tools', path=('__pregel_pull', 'tools'), error=None, interrupts=(), state=None, result=None),))"
      ]
     },
     "execution_count": 51,
     "metadata": {},
     "output_type": "execute_result"
    }
   ],
   "source": [
    "snapshot"
   ]
  },
  {
   "cell_type": "code",
   "execution_count": 52,
   "metadata": {},
   "outputs": [
    {
     "data": {
      "text/plain": [
       "('tools',)"
      ]
     },
     "execution_count": 52,
     "metadata": {},
     "output_type": "execute_result"
    }
   ],
   "source": [
    "snapshot.next"
   ]
  },
  {
   "cell_type": "code",
   "execution_count": 53,
   "metadata": {},
   "outputs": [],
   "source": [
    "last_message=snapshot.values[\"messages\"][-1]"
   ]
  },
  {
   "cell_type": "code",
   "execution_count": 82,
   "metadata": {},
   "outputs": [
    {
     "data": {
      "text/plain": [
       "AIMessage(content='', additional_kwargs={'tool_calls': [{'id': 'call_29yt', 'function': {'arguments': '{\"query\":\"weather in new delhi\"}', 'name': 'tavily_search_results_json'}, 'type': 'function'}]}, response_metadata={'token_usage': {'completion_tokens': 50, 'prompt_tokens': 2312, 'total_tokens': 2362, 'completion_time': 0.090909091, 'prompt_time': 0.095146698, 'queue_time': 0.022799881999999994, 'total_time': 0.186055789}, 'model_name': 'Gemma2-9b-It', 'system_fingerprint': 'fp_10c08bf97d', 'finish_reason': 'tool_calls', 'logprobs': None}, id='run-9eaee356-69f9-4d9e-ac04-40f397fbd095-0', tool_calls=[{'name': 'tavily_search_results_json', 'args': {'query': 'weather in new delhi'}, 'id': 'call_29yt', 'type': 'tool_call'}], usage_metadata={'input_tokens': 2312, 'output_tokens': 50, 'total_tokens': 2362})"
      ]
     },
     "execution_count": 82,
     "metadata": {},
     "output_type": "execute_result"
    }
   ],
   "source": [
    "last_message"
   ]
  },
  {
   "cell_type": "code",
   "execution_count": 54,
   "metadata": {},
   "outputs": [
    {
     "data": {
      "text/plain": [
       "[{'name': 'tavily_search_results_json',\n",
       "  'args': {'query': 'capital of india'},\n",
       "  'id': 'call_ckad',\n",
       "  'type': 'tool_call'}]"
      ]
     },
     "execution_count": 54,
     "metadata": {},
     "output_type": "execute_result"
    }
   ],
   "source": [
    "last_message.tool_calls"
   ]
  },
  {
   "cell_type": "code",
   "execution_count": 55,
   "metadata": {},
   "outputs": [],
   "source": [
    "\n",
    "# `None` will append nothing new to the current state, letting it resume as if it had never been interrupted\n",
    "events = app2.stream(None, config, stream_mode=\"values\")"
   ]
  },
  {
   "cell_type": "code",
   "execution_count": 56,
   "metadata": {},
   "outputs": [
    {
     "data": {
      "text/plain": [
       "<generator object Pregel.stream at 0x000001C698CB6700>"
      ]
     },
     "execution_count": 56,
     "metadata": {},
     "output_type": "execute_result"
    }
   ],
   "source": [
    "events"
   ]
  },
  {
   "cell_type": "code",
   "execution_count": 57,
   "metadata": {},
   "outputs": [
    {
     "name": "stdout",
     "output_type": "stream",
     "text": [
      "==================================\u001b[1m Ai Message \u001b[0m==================================\n",
      "Tool Calls:\n",
      "  tavily_search_results_json (call_ckad)\n",
      " Call ID: call_ckad\n",
      "  Args:\n",
      "    query: capital of india\n",
      "=================================\u001b[1m Tool Message \u001b[0m=================================\n",
      "Name: tavily_search_results_json\n",
      "\n",
      "[{\"url\": \"https://www.worldatlas.com/articles/what-is-the-capital-of-india.html\", \"content\": \"Related\\nThe Largest Empires In The History Of India\\nBiggest Ethnic Groups In India\\nMore in World Facts\\nThe Largest Countries In Asia By Area\\n Also, the durbar was held in Delhi so as to welcome the Prince of Wales; hence the British associated Delhi with royal heritage.\\n What is the Capital of India?\\nIndia, also known as the Republic of India is located in South Asia. For historical reasons, Red Fort which is located in New Delhi is a reminder to the British when they defeated the Mughal ruler in 1857. Initially, the capital city was in Kolkata when King George V of Britain ordered that the capital be moved to Delhi in 1911.\"}, {\"url\": \"https://www.usatoday.com/story/news/world/2023/05/24/what-is-the-capital-of-india/70195720007/\", \"content\": \"What is the oldest language?Endangered and extinct dialects, explained\\nWorld’s most populous city:Top 10 cities in the world, US ranked\\nHow many states are in India?\\nIndia is home to 28 states, each with its own capital and run by a Governor who represents the President:\\nIndia also has eight union territories, governed by an Administrator appointed by the President:\\nWhat state is New Delhi in?\\nNew Delhi is part of one of India’s union territories, the National Capital Territory of Dehli. The capital of India is New Delhi, located in the north-central part of the country to the west of the Yamuna River.\\n Calcutta (now Kolkata, the capital of West Bengal) was the country’s capital until 1911 when King George V declared Delhi the new capital and construction of New Delhi began.\\n Mumbai, the state capital of Maharashtra, is often considered the financial capital of India because of its role in the national and international economy.\\n About 1.4 billion people live in India, and the country is predicted to top China as the world’s most populous country by mid-2023, the United Nations reports.\"}, {\"url\": \"https://en.wikipedia.org/wiki/List_of_capitals_of_India\", \"content\": \"Jump to content Personal tools Toggle the table of contents List of capitals of India Tools Find sources: \\\"List of capitals of India\\\" – news · newspapers · books · scholar · JSTOR (September 2012) (Learn how and when to remove this message) Vijayanagara: Capital of Vijayanagara Empire from early 14th Century until 1585, when it was abandoned, ostensibly due to lack of water. Pune: In 1730, Pune became the capital of the Marathas of the Maratha Empire.At this time Maratha Empire was at its peak, and became the only non-mughal capital. Retrieved 22 July 2020. Retrieved 21 March 2014. Categories: Lists of cities in IndiaCapitals by countryIndia history-related listsLists of capitals By using this site, you agree to the Terms of Use and Privacy Policy.\"}, {\"url\": \"https://en.wikipedia.org/wiki/List_of_state_and_union_territory_capitals_in_India\", \"content\": \"List of state and union territory capitals in India - Wikipedia List of state and union territory capitals in India India is a federal constitutional republic governed under a parliamentary system consisting of 28 states and 8 union territories.[1] All states, as well as the union territories of Jammu and Kashmir, Puducherry and the National Capital Territory of Delhi, have elected legislatures and governments, both patterned on the Westminster model. The legislatures of three states Himachal Pradesh, Maharashtra and Uttarakhand meet in different capitals for their summer and winter sessions. Nagpur (Winter) | Mumbai | 1960 |  — | State and Union Territory capitals of India Retrieved from \\\"https://en.wikipedia.org/w/index.php?title=List_of_state_and_union_territory_capitals_in_India&oldid=1246142689\\\" States and union territories of India-related lists\"}, {\"url\": \"https://www.britannica.com/place/Delhi\", \"content\": \"The city of Delhi actually consists of two components: Old Delhi, in the north, the historic city; and New Delhi, in the south, since 1947 the capital of India, built in the first part of the 20th century as the capital of British India.\\n Two sides of the triangle are articulated by the rocky hills of the Aravalli Range—one to the south of the city, the other on its western edge, where it is known as the Delhi Ridge. To the east the territory is bounded by the state of Uttar Pradesh, and to the north, west, and south it is bounded by the state of Haryana.\\n One of the country’s largest urban agglomerations, Delhi sits astride (but primarily on the west bank of) the Yamuna River, a tributary of the Ganges (Ganga) River, about 100 miles (160 km) south of the Himalayas. The summer season lasts from mid-March to the end of June, with maximum temperatures typically reaching about 100 °F (about 37 °C) and minimum temperatures falling into the high 70s F (about 25 °C); it is characterized by frequent thunderstorms and squalls, especially in April and May.\"}]\n",
      "==================================\u001b[1m Ai Message \u001b[0m==================================\n",
      "\n",
      "New Delhi\n"
     ]
    }
   ],
   "source": [
    "for event in events:\n",
    "    if \"messages\" in event:\n",
    "        event[\"messages\"][-1].pretty_print()"
   ]
  },
  {
   "cell_type": "code",
   "execution_count": 58,
   "metadata": {},
   "outputs": [],
   "source": [
    "\n",
    "user_input = \"what is a weather there?\" # of Dehi which is being pull from memory of thread_id 1\n",
    "\n",
    "config = {\"configurable\": {\"thread_id\": \"1\"}}"
   ]
  },
  {
   "cell_type": "code",
   "execution_count": 59,
   "metadata": {},
   "outputs": [],
   "source": [
    "events = app2.stream(\n",
    "    {\"messages\": [(\"user\", user_input)]}, config, stream_mode=\"values\"\n",
    ")"
   ]
  },
  {
   "cell_type": "code",
   "execution_count": 60,
   "metadata": {},
   "outputs": [
    {
     "name": "stdout",
     "output_type": "stream",
     "text": [
      "================================\u001b[1m Human Message \u001b[0m=================================\n",
      "\n",
      "what is a weather there?\n",
      "==================================\u001b[1m Ai Message \u001b[0m==================================\n",
      "Tool Calls:\n",
      "  tavily_search_results_json (call_29yt)\n",
      " Call ID: call_29yt\n",
      "  Args:\n",
      "    query: weather in new delhi\n"
     ]
    }
   ],
   "source": [
    "for event in events:\n",
    "    if \"messages\" in event:\n",
    "        event[\"messages\"][-1].pretty_print()"
   ]
  },
  {
   "cell_type": "code",
   "execution_count": 61,
   "metadata": {},
   "outputs": [],
   "source": [
    "\n",
    "snapshot = app2.get_state(config)"
   ]
  },
  {
   "cell_type": "code",
   "execution_count": 62,
   "metadata": {},
   "outputs": [
    {
     "data": {
      "text/plain": [
       "('tools',)"
      ]
     },
     "execution_count": 62,
     "metadata": {},
     "output_type": "execute_result"
    }
   ],
   "source": [
    "\n",
    "snapshot.next"
   ]
  },
  {
   "cell_type": "code",
   "execution_count": 63,
   "metadata": {},
   "outputs": [],
   "source": [
    "\n",
    "\n",
    "last_message=snapshot.values[\"messages\"][-1]"
   ]
  },
  {
   "cell_type": "code",
   "execution_count": 64,
   "metadata": {},
   "outputs": [
    {
     "data": {
      "text/plain": [
       "[{'name': 'tavily_search_results_json',\n",
       "  'args': {'query': 'weather in new delhi'},\n",
       "  'id': 'call_29yt',\n",
       "  'type': 'tool_call'}]"
      ]
     },
     "execution_count": 64,
     "metadata": {},
     "output_type": "execute_result"
    }
   ],
   "source": [
    "\n",
    "last_message.tool_calls"
   ]
  },
  {
   "cell_type": "code",
   "execution_count": 65,
   "metadata": {},
   "outputs": [],
   "source": [
    "\n",
    "# `None` will append nothing new to the current state, letting it resume as if it had never been interrupted\n",
    "events = app2.stream(None, config, stream_mode=\"values\")"
   ]
  },
  {
   "cell_type": "code",
   "execution_count": 66,
   "metadata": {},
   "outputs": [
    {
     "name": "stdout",
     "output_type": "stream",
     "text": [
      "==================================\u001b[1m Ai Message \u001b[0m==================================\n",
      "Tool Calls:\n",
      "  tavily_search_results_json (call_29yt)\n",
      " Call ID: call_29yt\n",
      "  Args:\n",
      "    query: weather in new delhi\n",
      "=================================\u001b[1m Tool Message \u001b[0m=================================\n",
      "Name: tavily_search_results_json\n",
      "\n",
      "[{\"url\": \"https://www.weatherapi.com/\", \"content\": \"{'location': {'name': 'New Delhi', 'region': 'Delhi', 'country': 'India', 'lat': 28.6, 'lon': 77.2, 'tz_id': 'Asia/Kolkata', 'localtime_epoch': 1737366844, 'localtime': '2025-01-20 15:24'}, 'current': {'last_updated_epoch': 1737366300, 'last_updated': '2025-01-20 15:15', 'temp_c': 23.4, 'temp_f': 74.1, 'is_day': 1, 'condition': {'text': 'Mist', 'icon': '//cdn.weatherapi.com/weather/64x64/day/143.png', 'code': 1030}, 'wind_mph': 10.1, 'wind_kph': 16.2, 'wind_degree': 306, 'wind_dir': 'NW', 'pressure_mb': 1014.0, 'pressure_in': 29.94, 'precip_mm': 0.0, 'precip_in': 0.0, 'humidity': 50, 'cloud': 0, 'feelslike_c': 24.0, 'feelslike_f': 75.3, 'windchill_c': 24.1, 'windchill_f': 75.4, 'heatindex_c': 24.4, 'heatindex_f': 75.9, 'dewpoint_c': 6.6, 'dewpoint_f': 43.9, 'vis_km': 2.2, 'vis_miles': 1.0, 'uv': 1.2, 'gust_mph': 11.8, 'gust_kph': 19.0}}\"}, {\"url\": \"https://www.msn.com/en-in/weather/meteorology/delhi-weather-and-aqi-today-check-weather-forecast-for-january-20-2025/ar-AA1xu7Cb\", \"content\": \"The temperature in Delhi today, on January 20, 2025, is 19.66 °C. The day's forecast indicates a minimum and maximum temperature of 12.05 °C and 24.35 °C, respectively. The relative humidity is\"}, {\"url\": \"https://world-weather.info/forecast/india/new_delhi/january-2025/\", \"content\": \"Weather in New Delhi in January 2025 (Union Territory of Delhi) - Detailed Weather Forecast for a Month Weather World Union Territory of Delhi Weather in New Delhi Weather in New Delhi in January 2025 New Delhi Weather Forecast for January 2025, is based on previous years' statistical data. +66°+50° +66°+50° +64°+50° +66°+50° +66°+52° +66°+54° +64°+54° +64°+52° +66°+52° +64°+50° +66°+50° +66°+52° +68°+54° +66°+52° +64°+52° +66°+52° +66°+52° +68°+52° +66°+52° +64°+52° +66°+52° +68°+52° +70°+52° +68°+55° +68°+54° +68°+55° +68°+54° +68°+54° +70°+54° +70°+54° +70°+55° Extended weather forecast in New Delhi HourlyWeek10-Day14-Day30-DayYear Weather in large and nearby cities Delhi+57° Muzaffarnagar+57° Aligarh+59° Karnāl+57° Alwar+59° Mathura+59° Sahāranpur+57° Morādābād+59° Hisār+59° Panipat+57° Rohtak+59° Meerut+61° Okhla Industrial Development Area+55° Nāngloi Jāt+57° Ghaziabad+57° Noida+55° Gurgaon+57° Faridabad+57° world's temperature today day day Temperature units\"}, {\"url\": \"https://www.news9live.com/city/delhi/delhi-weather-and-aqi-shallow-fog-rain-likely-tomorrow-aqi-above-350-2800687\", \"content\": \"Weather and AQI predictions in Delhi for next 7 days: Shallow fog, rain likely tomorrow; AQI above 350 | Delhi News - News9live Delhi News Delhi weather and AQI: Shallow fog, rain likely tomorrow; AQI above 350 Delhi Weather and Real-time Air Quality Index (AQI) Today, 20 January 2025 and Predictions for Next 7 Days: Milder temperature with shallow fog. Delhi Weather and Real-time Air Quality Index (AQI) Today, 20-January 2024. The air quality continues to worsen, with the overall Air Quality Index (AQI) of Delhi recorded at 349, which falls under the ‘very poor’ category. Click for more latest Delhi news. News City News Delhi News Delhi Weather And AQI: Shallow Fog, Rain Likely Tomorrow; AQI Above 350 News\"}, {\"url\": \"https://world-weather.info/forecast/india/delhi/january-2025/\", \"content\": \"Weather in Delhi in January 2025 (Union Territory of Delhi) - Detailed Weather Forecast for a Month Weather World Union Territory of Delhi Weather in Delhi Weather in Delhi in January 2025 Delhi Weather Forecast for January 2025, is based on previous years' statistical data. +66°+50° +66°+52° +64°+50° +66°+50° +66°+52° +66°+54° +64°+54° +64°+50° +64°+52° +64°+50° +66°+50° +66°+52° +68°+52° +66°+54° +64°+50° +64°+52° +64°+52° +66°+50° +66°+52° +64°+52° +64°+52° +68°+52° +68°+52° +68°+55° +68°+54° +68°+55° +68°+54° +68°+52° +70°+54° +70°+54° +70°+54° Extended weather forecast in Delhi HourlyWeek10-Day14-Day30-DayYear Weather in large and nearby cities Weather in New Delhi+54° Panipat+57° Muzaffarnagar+57° Karnāl+57° Aligarh+59° Alwar+59° Mathura+59° Sahāranpur+57° Morādābād+59° Rohtak+59° Meerut+61° Okhla Industrial Development Area+55° Nāngloi Jāt+57° Ghaziabad+57° Noida+55° Faridabad+57° Gurgaon+57° Sonīpat+57° world's temperature today day day Temperature units\"}]\n",
      "==================================\u001b[1m Ai Message \u001b[0m==================================\n",
      "\n",
      "The weather in New Delhi today is 19.66 °C  with a low of 12.05 °C and a high of 24.35 °C.  It is currently a bit cloudy.\n"
     ]
    }
   ],
   "source": [
    "\n",
    "for event in events:\n",
    "    if \"messages\" in event:\n",
    "        event[\"messages\"][-1].pretty_print()"
   ]
  },
  {
   "cell_type": "code",
   "execution_count": 67,
   "metadata": {},
   "outputs": [
    {
     "data": {
      "text/plain": [
       "StateSnapshot(values={'messages': [HumanMessage(content='what is current a capital of india?', additional_kwargs={}, response_metadata={}, id='67cb5898-51c1-4543-bbc1-01a35148f406'), AIMessage(content='', additional_kwargs={'tool_calls': [{'id': 'call_ckad', 'function': {'arguments': '{\"query\":\"capital of india\"}', 'name': 'tavily_search_results_json'}, 'type': 'function'}]}, response_metadata={'token_usage': {'completion_tokens': 87, 'prompt_tokens': 989, 'total_tokens': 1076, 'completion_time': 0.158181818, 'prompt_time': 0.039906401, 'queue_time': 0.020924778999999998, 'total_time': 0.198088219}, 'model_name': 'Gemma2-9b-It', 'system_fingerprint': 'fp_10c08bf97d', 'finish_reason': 'tool_calls', 'logprobs': None}, id='run-5b7cd0d1-5814-4b4e-80a8-3d9ffd7824d8-0', tool_calls=[{'name': 'tavily_search_results_json', 'args': {'query': 'capital of india'}, 'id': 'call_ckad', 'type': 'tool_call'}], usage_metadata={'input_tokens': 989, 'output_tokens': 87, 'total_tokens': 1076}), ToolMessage(content='[{\"url\": \"https://www.worldatlas.com/articles/what-is-the-capital-of-india.html\", \"content\": \"Related\\\\nThe Largest Empires In The History Of India\\\\nBiggest Ethnic Groups In India\\\\nMore in World Facts\\\\nThe Largest Countries In Asia By Area\\\\n Also, the durbar was held in Delhi so as to welcome the Prince of Wales; hence the British associated Delhi with royal heritage.\\\\n What is the Capital of India?\\\\nIndia, also known as the Republic of India is located in South Asia. For historical reasons, Red Fort which is located in New Delhi is a reminder to the British when they defeated the Mughal ruler in 1857. Initially, the capital city was in Kolkata when King George V of Britain ordered that the capital be moved to Delhi in 1911.\"}, {\"url\": \"https://www.usatoday.com/story/news/world/2023/05/24/what-is-the-capital-of-india/70195720007/\", \"content\": \"What is the oldest language?Endangered and extinct dialects, explained\\\\nWorld’s most populous city:Top 10 cities in the world, US ranked\\\\nHow many states are in India?\\\\nIndia is home to 28 states, each with its own capital and run by a Governor who represents the President:\\\\nIndia also has eight union territories, governed by an Administrator appointed by the President:\\\\nWhat state is New Delhi in?\\\\nNew Delhi is part of one of India’s union territories, the National Capital Territory of Dehli. The capital of India is New Delhi, located in the north-central part of the country to the west of the Yamuna River.\\\\n Calcutta (now Kolkata, the capital of West Bengal) was the country’s capital until 1911 when King George V declared Delhi the new capital and construction of New Delhi began.\\\\n Mumbai, the state capital of Maharashtra, is often considered the financial capital of India because of its role in the national and international economy.\\\\n About 1.4 billion people live in India, and the country is predicted to top China as the world’s most populous country by mid-2023, the United Nations reports.\"}, {\"url\": \"https://en.wikipedia.org/wiki/List_of_capitals_of_India\", \"content\": \"Jump to content Personal tools Toggle the table of contents List of capitals of India Tools Find sources:\\xa0\\\\\"List of capitals of India\\\\\"\\xa0–\\xa0news\\xa0· newspapers\\xa0· books\\xa0· scholar\\xa0· JSTOR (September 2012) (Learn how and when to remove this message) Vijayanagara: Capital of Vijayanagara Empire from early 14th Century until 1585, when it was abandoned, ostensibly due to lack of water. Pune: In 1730, Pune became the capital of the Marathas of the Maratha Empire.At this time Maratha Empire was at its peak, and became the only non-mughal capital. Retrieved 22 July 2020. Retrieved 21 March 2014. Categories: Lists of cities in IndiaCapitals by countryIndia history-related listsLists of capitals By using this site, you agree to the Terms of Use and Privacy Policy.\"}, {\"url\": \"https://en.wikipedia.org/wiki/List_of_state_and_union_territory_capitals_in_India\", \"content\": \"List of state and union territory capitals in India - Wikipedia List of state and union territory capitals in India India is a federal constitutional republic governed under a parliamentary system consisting of 28 states and 8 union territories.[1] All states, as well as the union territories of Jammu and Kashmir, Puducherry and the National Capital Territory of Delhi, have elected legislatures and governments, both patterned on the Westminster model. The legislatures of three states Himachal Pradesh, Maharashtra and Uttarakhand meet in different capitals for their summer and winter sessions. Nagpur (Winter) | Mumbai | 1960 | \\xa0— | State and Union Territory capitals of India Retrieved from \\\\\"https://en.wikipedia.org/w/index.php?title=List_of_state_and_union_territory_capitals_in_India&oldid=1246142689\\\\\" States and union territories of India-related lists\"}, {\"url\": \"https://www.britannica.com/place/Delhi\", \"content\": \"The city of Delhi actually consists of two components: Old Delhi, in the north, the historic city; and New Delhi, in the south, since 1947 the capital of India, built in the first part of the 20th century as the capital of British India.\\\\n Two sides of the triangle are articulated by the rocky hills of the Aravalli Range—one to the south of the city, the other on its western edge, where it is known as the Delhi Ridge. To the east the territory is bounded by the state of Uttar Pradesh, and to the north, west, and south it is bounded by the state of Haryana.\\\\n One of the country’s largest urban agglomerations, Delhi sits astride (but primarily on the west bank of) the Yamuna River, a tributary of the Ganges (Ganga) River, about 100 miles (160 km) south of the Himalayas. The summer season lasts from mid-March to the end of June, with maximum temperatures typically reaching about 100 °F (about 37 °C) and minimum temperatures falling into the high 70s F (about 25 °C); it is characterized by frequent thunderstorms and squalls, especially in April and May.\"}]', name='tavily_search_results_json', id='375a2f21-c5b1-42d7-a1b8-2bd27db5e386', tool_call_id='call_ckad', artifact={'query': 'capital of india', 'follow_up_questions': None, 'answer': None, 'images': [], 'results': [{'title': 'What is the Capital of India? - WorldAtlas', 'url': 'https://www.worldatlas.com/articles/what-is-the-capital-of-india.html', 'content': 'Related\\nThe Largest Empires In The History Of India\\nBiggest Ethnic Groups In India\\nMore in World Facts\\nThe Largest Countries In Asia By Area\\n Also, the durbar was held in Delhi so as to welcome the Prince of Wales; hence the British associated Delhi with royal heritage.\\n What is the Capital of India?\\nIndia, also known as the Republic of India is located in South Asia. For historical reasons, Red Fort which is located in New Delhi is a reminder to the British when they defeated the Mughal ruler in 1857. Initially, the capital city was in Kolkata when King George V of Britain ordered that the capital be moved to Delhi in 1911.', 'score': 0.8708723, 'raw_content': None}, {'title': 'What is the capital of India? States and union territories explained.', 'url': 'https://www.usatoday.com/story/news/world/2023/05/24/what-is-the-capital-of-india/70195720007/', 'content': 'What is the oldest language?Endangered and extinct dialects, explained\\nWorld’s most populous city:Top 10 cities in the world, US ranked\\nHow many states are in India?\\nIndia is home to 28 states, each with its own capital and run by a Governor who represents the President:\\nIndia also has eight union territories, governed by an Administrator appointed by the President:\\nWhat state is New Delhi in?\\nNew Delhi is part of one of India’s union territories, the National Capital Territory of Dehli. The capital of India is New Delhi, located in the north-central part of the country to the west of the Yamuna River.\\n Calcutta (now Kolkata, the capital of West Bengal) was the country’s capital until 1911 when King George V declared Delhi the new capital and construction of New Delhi began.\\n Mumbai, the state capital of Maharashtra, is often considered the financial capital of India because of its role in the national and international economy.\\n About 1.4 billion people live in India, and the country is predicted to top China as the world’s most populous country by mid-2023, the United Nations reports.', 'score': 0.8585411, 'raw_content': None}, {'title': 'List of capitals of India - Wikipedia', 'url': 'https://en.wikipedia.org/wiki/List_of_capitals_of_India', 'content': 'Jump to content Personal tools Toggle the table of contents List of capitals of India Tools Find sources:\\xa0\"List of capitals of India\"\\xa0–\\xa0news\\xa0· newspapers\\xa0· books\\xa0· scholar\\xa0· JSTOR (September 2012) (Learn how and when to remove this message) Vijayanagara: Capital of Vijayanagara Empire from early 14th Century until 1585, when it was abandoned, ostensibly due to lack of water. Pune: In 1730, Pune became the capital of the Marathas of the Maratha Empire.At this time Maratha Empire was at its peak, and became the only non-mughal capital. Retrieved 22 July 2020. Retrieved 21 March 2014. Categories: Lists of cities in IndiaCapitals by countryIndia history-related listsLists of capitals By using this site, you agree to the Terms of Use and Privacy Policy.', 'score': 0.79293, 'raw_content': None}, {'title': 'List of state and union territory capitals in India - Wikipedia', 'url': 'https://en.wikipedia.org/wiki/List_of_state_and_union_territory_capitals_in_India', 'content': 'List of state and union territory capitals in India - Wikipedia List of state and union territory capitals in India India is a federal constitutional republic governed under a parliamentary system consisting of 28 states and 8 union territories.[1] All states, as well as the union territories of Jammu and Kashmir, Puducherry and the National Capital Territory of Delhi, have elected legislatures and governments, both patterned on the Westminster model. The legislatures of three states Himachal Pradesh, Maharashtra and Uttarakhand meet in different capitals for their summer and winter sessions. Nagpur (Winter) | Mumbai | 1960 | \\xa0— | State and Union Territory capitals of India Retrieved from \"https://en.wikipedia.org/w/index.php?title=List_of_state_and_union_territory_capitals_in_India&oldid=1246142689\" States and union territories of India-related lists', 'score': 0.78788257, 'raw_content': None}, {'title': 'Delhi | History, Population, Map, & Facts | Britannica', 'url': 'https://www.britannica.com/place/Delhi', 'content': 'The city of Delhi actually consists of two components: Old Delhi, in the north, the historic city; and New Delhi, in the south, since 1947 the capital of India, built in the first part of the 20th century as the capital of British India.\\n Two sides of the triangle are articulated by the rocky hills of the Aravalli Range—one to the south of the city, the other on its western edge, where it is known as the Delhi Ridge. To the east the territory is bounded by the state of Uttar Pradesh, and to the north, west, and south it is bounded by the state of Haryana.\\n One of the country’s largest urban agglomerations, Delhi sits astride (but primarily on the west bank of) the Yamuna River, a tributary of the Ganges (Ganga) River, about 100 miles (160 km) south of the Himalayas. The summer season lasts from mid-March to the end of June, with maximum temperatures typically reaching about 100 °F (about 37 °C) and minimum temperatures falling into the high 70s F (about 25 °C); it is characterized by frequent thunderstorms and squalls, especially in April and May.', 'score': 0.70336664, 'raw_content': None}], 'response_time': 1.96}), AIMessage(content='New Delhi', additional_kwargs={}, response_metadata={'token_usage': {'completion_tokens': 4, 'prompt_tokens': 2294, 'total_tokens': 2298, 'completion_time': 0.007272727, 'prompt_time': 0.073878328, 'queue_time': 0.024335244000000006, 'total_time': 0.081151055}, 'model_name': 'Gemma2-9b-It', 'system_fingerprint': 'fp_10c08bf97d', 'finish_reason': 'stop', 'logprobs': None}, id='run-421ceba6-1e3a-4e17-9a01-817b926b634d-0', usage_metadata={'input_tokens': 2294, 'output_tokens': 4, 'total_tokens': 2298}), HumanMessage(content='what is a weather there?', additional_kwargs={}, response_metadata={}, id='67066ee6-356c-49f3-9f49-1a13639b7b75'), AIMessage(content='', additional_kwargs={'tool_calls': [{'id': 'call_29yt', 'function': {'arguments': '{\"query\":\"weather in new delhi\"}', 'name': 'tavily_search_results_json'}, 'type': 'function'}]}, response_metadata={'token_usage': {'completion_tokens': 50, 'prompt_tokens': 2312, 'total_tokens': 2362, 'completion_time': 0.090909091, 'prompt_time': 0.095146698, 'queue_time': 0.022799881999999994, 'total_time': 0.186055789}, 'model_name': 'Gemma2-9b-It', 'system_fingerprint': 'fp_10c08bf97d', 'finish_reason': 'tool_calls', 'logprobs': None}, id='run-9eaee356-69f9-4d9e-ac04-40f397fbd095-0', tool_calls=[{'name': 'tavily_search_results_json', 'args': {'query': 'weather in new delhi'}, 'id': 'call_29yt', 'type': 'tool_call'}], usage_metadata={'input_tokens': 2312, 'output_tokens': 50, 'total_tokens': 2362}), ToolMessage(content='[{\"url\": \"https://www.weatherapi.com/\", \"content\": \"{\\'location\\': {\\'name\\': \\'New Delhi\\', \\'region\\': \\'Delhi\\', \\'country\\': \\'India\\', \\'lat\\': 28.6, \\'lon\\': 77.2, \\'tz_id\\': \\'Asia/Kolkata\\', \\'localtime_epoch\\': 1737366844, \\'localtime\\': \\'2025-01-20 15:24\\'}, \\'current\\': {\\'last_updated_epoch\\': 1737366300, \\'last_updated\\': \\'2025-01-20 15:15\\', \\'temp_c\\': 23.4, \\'temp_f\\': 74.1, \\'is_day\\': 1, \\'condition\\': {\\'text\\': \\'Mist\\', \\'icon\\': \\'//cdn.weatherapi.com/weather/64x64/day/143.png\\', \\'code\\': 1030}, \\'wind_mph\\': 10.1, \\'wind_kph\\': 16.2, \\'wind_degree\\': 306, \\'wind_dir\\': \\'NW\\', \\'pressure_mb\\': 1014.0, \\'pressure_in\\': 29.94, \\'precip_mm\\': 0.0, \\'precip_in\\': 0.0, \\'humidity\\': 50, \\'cloud\\': 0, \\'feelslike_c\\': 24.0, \\'feelslike_f\\': 75.3, \\'windchill_c\\': 24.1, \\'windchill_f\\': 75.4, \\'heatindex_c\\': 24.4, \\'heatindex_f\\': 75.9, \\'dewpoint_c\\': 6.6, \\'dewpoint_f\\': 43.9, \\'vis_km\\': 2.2, \\'vis_miles\\': 1.0, \\'uv\\': 1.2, \\'gust_mph\\': 11.8, \\'gust_kph\\': 19.0}}\"}, {\"url\": \"https://www.msn.com/en-in/weather/meteorology/delhi-weather-and-aqi-today-check-weather-forecast-for-january-20-2025/ar-AA1xu7Cb\", \"content\": \"The temperature in Delhi today, on January 20, 2025, is 19.66 °C. The day\\'s forecast indicates a minimum and maximum temperature of 12.05 °C and 24.35 °C, respectively. The relative humidity is\"}, {\"url\": \"https://world-weather.info/forecast/india/new_delhi/january-2025/\", \"content\": \"Weather in New Delhi in January 2025 (Union Territory of Delhi) - Detailed Weather Forecast for a Month Weather World Union Territory of Delhi Weather in New Delhi Weather in New Delhi in January 2025 New Delhi Weather Forecast for January 2025, is based on previous years\\' statistical data. +66°+50° +66°+50° +64°+50° +66°+50° +66°+52° +66°+54° +64°+54° +64°+52° +66°+52° +64°+50° +66°+50° +66°+52° +68°+54° +66°+52° +64°+52° +66°+52° +66°+52° +68°+52° +66°+52° +64°+52° +66°+52° +68°+52° +70°+52° +68°+55° +68°+54° +68°+55° +68°+54° +68°+54° +70°+54° +70°+54° +70°+55° Extended weather forecast in New Delhi HourlyWeek10-Day14-Day30-DayYear Weather in large and nearby cities Delhi+57° Muzaffarnagar+57° Aligarh+59° Karnāl+57° Alwar+59° Mathura+59° Sahāranpur+57° Morādābād+59° Hisār+59° Panipat+57° Rohtak+59° Meerut+61° Okhla Industrial Development Area+55° Nāngloi Jāt+57° Ghaziabad+57° Noida+55° Gurgaon+57° Faridabad+57° world\\'s temperature today day day Temperature units\"}, {\"url\": \"https://www.news9live.com/city/delhi/delhi-weather-and-aqi-shallow-fog-rain-likely-tomorrow-aqi-above-350-2800687\", \"content\": \"Weather and AQI predictions in Delhi for next 7 days: Shallow fog, rain likely tomorrow; AQI above 350 | Delhi News - News9live Delhi News Delhi weather and AQI: Shallow fog, rain likely tomorrow; AQI above 350 Delhi Weather and Real-time Air Quality Index (AQI) Today, 20 January 2025 and Predictions for Next 7 Days: Milder temperature with shallow fog. Delhi Weather and Real-time Air Quality Index (AQI) Today, 20-January 2024. The air quality continues to worsen, with the overall Air Quality Index (AQI) of Delhi recorded at 349, which falls under the ‘very poor’ category. Click for more latest Delhi news. News City News Delhi News Delhi Weather And AQI: Shallow Fog, Rain Likely Tomorrow; AQI Above 350 News\"}, {\"url\": \"https://world-weather.info/forecast/india/delhi/january-2025/\", \"content\": \"Weather in Delhi in January 2025 (Union Territory of Delhi) - Detailed Weather Forecast for a Month Weather World Union Territory of Delhi Weather in Delhi Weather in Delhi in January 2025 Delhi Weather Forecast for January 2025, is based on previous years\\' statistical data. +66°+50° +66°+52° +64°+50° +66°+50° +66°+52° +66°+54° +64°+54° +64°+50° +64°+52° +64°+50° +66°+50° +66°+52° +68°+52° +66°+54° +64°+50° +64°+52° +64°+52° +66°+50° +66°+52° +64°+52° +64°+52° +68°+52° +68°+52° +68°+55° +68°+54° +68°+55° +68°+54° +68°+52° +70°+54° +70°+54° +70°+54° Extended weather forecast in Delhi HourlyWeek10-Day14-Day30-DayYear Weather in large and nearby cities Weather in New Delhi+54° Panipat+57° Muzaffarnagar+57° Karnāl+57° Aligarh+59° Alwar+59° Mathura+59° Sahāranpur+57° Morādābād+59° Rohtak+59° Meerut+61° Okhla Industrial Development Area+55° Nāngloi Jāt+57° Ghaziabad+57° Noida+55° Faridabad+57° Gurgaon+57° Sonīpat+57° world\\'s temperature today day day Temperature units\"}]', name='tavily_search_results_json', id='d4f3653c-b243-4585-b7b4-db3d0e27c124', tool_call_id='call_29yt', artifact={'query': 'weather in new delhi', 'follow_up_questions': None, 'answer': None, 'images': [], 'results': [{'title': 'Weather in New Delhi', 'url': 'https://www.weatherapi.com/', 'content': \"{'location': {'name': 'New Delhi', 'region': 'Delhi', 'country': 'India', 'lat': 28.6, 'lon': 77.2, 'tz_id': 'Asia/Kolkata', 'localtime_epoch': 1737366844, 'localtime': '2025-01-20 15:24'}, 'current': {'last_updated_epoch': 1737366300, 'last_updated': '2025-01-20 15:15', 'temp_c': 23.4, 'temp_f': 74.1, 'is_day': 1, 'condition': {'text': 'Mist', 'icon': '//cdn.weatherapi.com/weather/64x64/day/143.png', 'code': 1030}, 'wind_mph': 10.1, 'wind_kph': 16.2, 'wind_degree': 306, 'wind_dir': 'NW', 'pressure_mb': 1014.0, 'pressure_in': 29.94, 'precip_mm': 0.0, 'precip_in': 0.0, 'humidity': 50, 'cloud': 0, 'feelslike_c': 24.0, 'feelslike_f': 75.3, 'windchill_c': 24.1, 'windchill_f': 75.4, 'heatindex_c': 24.4, 'heatindex_f': 75.9, 'dewpoint_c': 6.6, 'dewpoint_f': 43.9, 'vis_km': 2.2, 'vis_miles': 1.0, 'uv': 1.2, 'gust_mph': 11.8, 'gust_kph': 19.0}}\", 'score': 0.9912665, 'raw_content': None}, {'title': 'Delhi Weather and AQI Today: Check weather forecast for January 20, 2025', 'url': 'https://www.msn.com/en-in/weather/meteorology/delhi-weather-and-aqi-today-check-weather-forecast-for-january-20-2025/ar-AA1xu7Cb', 'content': \"The temperature in Delhi today, on January 20, 2025, is 19.66 °C. The day's forecast indicates a minimum and maximum temperature of 12.05 °C and 24.35 °C, respectively. The relative humidity is\", 'score': 0.9485422, 'raw_content': None}, {'title': 'Weather in New Delhi in January 2025 (Union Territory of Delhi ...', 'url': 'https://world-weather.info/forecast/india/new_delhi/january-2025/', 'content': \"Weather in New Delhi in January 2025 (Union Territory of Delhi) - Detailed Weather Forecast for a Month Weather World Union Territory of Delhi Weather in New Delhi Weather in New Delhi in January 2025 New Delhi Weather Forecast for January 2025, is based on previous years' statistical data. +66°+50° +66°+50° +64°+50° +66°+50° +66°+52° +66°+54° +64°+54° +64°+52° +66°+52° +64°+50° +66°+50° +66°+52° +68°+54° +66°+52° +64°+52° +66°+52° +66°+52° +68°+52° +66°+52° +64°+52° +66°+52° +68°+52° +70°+52° +68°+55° +68°+54° +68°+55° +68°+54° +68°+54° +70°+54° +70°+54° +70°+55° Extended weather forecast in New Delhi HourlyWeek10-Day14-Day30-DayYear Weather in large and nearby cities Delhi+57° Muzaffarnagar+57° Aligarh+59° Karnāl+57° Alwar+59° Mathura+59° Sahāranpur+57° Morādābād+59° Hisār+59° Panipat+57° Rohtak+59° Meerut+61° Okhla Industrial Development Area+55° Nāngloi Jāt+57° Ghaziabad+57° Noida+55° Gurgaon+57° Faridabad+57° world's temperature today day day Temperature units\", 'score': 0.8315952, 'raw_content': None}, {'title': 'Weather and AQI predictions in Delhi for next 7 days ... - News9Live', 'url': 'https://www.news9live.com/city/delhi/delhi-weather-and-aqi-shallow-fog-rain-likely-tomorrow-aqi-above-350-2800687', 'content': 'Weather and AQI predictions in Delhi for next 7 days: Shallow fog, rain likely tomorrow; AQI above 350 | Delhi News - News9live Delhi News Delhi weather and AQI: Shallow fog, rain likely tomorrow; AQI above 350 Delhi Weather and Real-time Air Quality Index (AQI) Today, 20 January 2025 and Predictions for Next 7 Days: Milder temperature with shallow fog. Delhi Weather and Real-time Air Quality Index (AQI) Today, 20-January 2024. The air quality continues to worsen, with the overall Air Quality Index (AQI) of Delhi recorded at 349, which falls under the ‘very poor’ category. Click for more latest Delhi news. News City News Delhi News Delhi Weather And AQI: Shallow Fog, Rain Likely Tomorrow; AQI Above 350 News', 'score': 0.8080827, 'raw_content': None}, {'title': 'Weather in Delhi in January 2025 (Union Territory of Delhi) - Detailed ...', 'url': 'https://world-weather.info/forecast/india/delhi/january-2025/', 'content': \"Weather in Delhi in January 2025 (Union Territory of Delhi) - Detailed Weather Forecast for a Month Weather World Union Territory of Delhi Weather in Delhi Weather in Delhi in January 2025 Delhi Weather Forecast for January 2025, is based on previous years' statistical data. +66°+50° +66°+52° +64°+50° +66°+50° +66°+52° +66°+54° +64°+54° +64°+50° +64°+52° +64°+50° +66°+50° +66°+52° +68°+52° +66°+54° +64°+50° +64°+52° +64°+52° +66°+50° +66°+52° +64°+52° +64°+52° +68°+52° +68°+52° +68°+55° +68°+54° +68°+55° +68°+54° +68°+52° +70°+54° +70°+54° +70°+54° Extended weather forecast in Delhi HourlyWeek10-Day14-Day30-DayYear Weather in large and nearby cities Weather in New Delhi+54° Panipat+57° Muzaffarnagar+57° Karnāl+57° Aligarh+59° Alwar+59° Mathura+59° Sahāranpur+57° Morādābād+59° Rohtak+59° Meerut+61° Okhla Industrial Development Area+55° Nāngloi Jāt+57° Ghaziabad+57° Noida+55° Faridabad+57° Gurgaon+57° Sonīpat+57° world's temperature today day day Temperature units\", 'score': 0.79484755, 'raw_content': None}], 'response_time': 2.38}), AIMessage(content='The weather in New Delhi today is 19.66 °C  with a low of 12.05 °C and a high of 24.35 °C.  It is currently a bit cloudy.\\n', additional_kwargs={}, response_metadata={'token_usage': {'completion_tokens': 52, 'prompt_tokens': 4244, 'total_tokens': 4296, 'completion_time': 0.094545455, 'prompt_time': 0.136534723, 'queue_time': 0.02557300400000001, 'total_time': 0.231080178}, 'model_name': 'Gemma2-9b-It', 'system_fingerprint': 'fp_10c08bf97d', 'finish_reason': 'stop', 'logprobs': None}, id='run-4fbd5c2b-de29-4273-a005-9f61c24901e2-0', usage_metadata={'input_tokens': 4244, 'output_tokens': 52, 'total_tokens': 4296})]}, next=(), config={'configurable': {'thread_id': '1', 'checkpoint_ns': '', 'checkpoint_id': '1efd71ba-50c6-6ddf-8008-f581a75f7a7b'}}, metadata={'source': 'loop', 'writes': {'ai_assistant': {'messages': [AIMessage(content='The weather in New Delhi today is 19.66 °C  with a low of 12.05 °C and a high of 24.35 °C.  It is currently a bit cloudy.\\n', additional_kwargs={}, response_metadata={'token_usage': {'completion_tokens': 52, 'prompt_tokens': 4244, 'total_tokens': 4296, 'completion_time': 0.094545455, 'prompt_time': 0.136534723, 'queue_time': 0.02557300400000001, 'total_time': 0.231080178}, 'model_name': 'Gemma2-9b-It', 'system_fingerprint': 'fp_10c08bf97d', 'finish_reason': 'stop', 'logprobs': None}, id='run-4fbd5c2b-de29-4273-a005-9f61c24901e2-0', usage_metadata={'input_tokens': 4244, 'output_tokens': 52, 'total_tokens': 4296})]}}, 'thread_id': '1', 'step': 8, 'parents': {}}, created_at='2025-01-20T10:45:20.491875+00:00', parent_config={'configurable': {'thread_id': '1', 'checkpoint_ns': '', 'checkpoint_id': '1efd71ba-4a00-60ae-8007-54120b30f71d'}}, tasks=())"
      ]
     },
     "execution_count": 67,
     "metadata": {},
     "output_type": "execute_result"
    }
   ],
   "source": [
    "\n",
    "app2.get_state(config)"
   ]
  },
  {
   "cell_type": "code",
   "execution_count": 68,
   "metadata": {},
   "outputs": [],
   "source": [
    "\n",
    "snapshot=app2.get_state(config)"
   ]
  },
  {
   "cell_type": "code",
   "execution_count": 69,
   "metadata": {},
   "outputs": [
    {
     "data": {
      "text/plain": [
       "()"
      ]
     },
     "execution_count": 69,
     "metadata": {},
     "output_type": "execute_result"
    }
   ],
   "source": [
    "\n",
    "snapshot.next"
   ]
  },
  {
   "cell_type": "code",
   "execution_count": 87,
   "metadata": {},
   "outputs": [],
   "source": [
    "\n",
    "user_input = \"give me the gps location  of it?\" # of Delhi which is being used from memory\n",
    "\n",
    "config = {\"configurable\": {\"thread_id\": \"1\"}}"
   ]
  },
  {
   "cell_type": "code",
   "execution_count": 88,
   "metadata": {},
   "outputs": [],
   "source": [
    "# The config is the **second positional argument** to stream() or invoke()!\n",
    "events = app2.stream(\n",
    "    {\"messages\": [(\"user\", user_input)]}, config, stream_mode=\"values\"\n",
    ")"
   ]
  },
  {
   "cell_type": "code",
   "execution_count": 89,
   "metadata": {},
   "outputs": [
    {
     "name": "stdout",
     "output_type": "stream",
     "text": [
      "================================\u001b[1m Human Message \u001b[0m=================================\n",
      "\n",
      "give me the gps location  of it?\n",
      "==================================\u001b[1m Ai Message \u001b[0m==================================\n",
      "\n",
      "The GPS coordinates for New Delhi are approximately 28.6139° N, 77.2090° E.\n"
     ]
    }
   ],
   "source": [
    "\n",
    "for event in events:\n",
    "    if \"messages\" in event:\n",
    "        event[\"messages\"][-1].pretty_print()"
   ]
  },
  {
   "cell_type": "code",
   "execution_count": 90,
   "metadata": {},
   "outputs": [],
   "source": [
    "for event in events:\n",
    "    if \"messages\" in event:\n",
    "        event[\"messages\"][-1].pretty_print()"
   ]
  },
  {
   "cell_type": "code",
   "execution_count": 91,
   "metadata": {},
   "outputs": [],
   "source": [
    "\n",
    "snapshot=app2.get_state(config)"
   ]
  },
  {
   "cell_type": "code",
   "execution_count": 92,
   "metadata": {},
   "outputs": [],
   "source": [
    "\n",
    "current_message = snapshot.values[\"messages\"][-1]"
   ]
  },
  {
   "cell_type": "code",
   "execution_count": 95,
   "metadata": {},
   "outputs": [
    {
     "data": {
      "text/plain": [
       "AIMessage(content='The GPS coordinates for New Delhi are approximately 28.6139° N, 77.2090° E. \\n', additional_kwargs={}, response_metadata={'token_usage': {'completion_tokens': 34, 'prompt_tokens': 4392, 'total_tokens': 4426, 'completion_time': 0.061818182, 'prompt_time': 0.140978558, 'queue_time': 0.04002990100000001, 'total_time': 0.20279674}, 'model_name': 'Gemma2-9b-It', 'system_fingerprint': 'fp_10c08bf97d', 'finish_reason': 'stop', 'logprobs': None}, id='run-37fa0155-76e8-4f97-bd97-8e65301c78be-0', usage_metadata={'input_tokens': 4392, 'output_tokens': 34, 'total_tokens': 4426})"
      ]
     },
     "execution_count": 95,
     "metadata": {},
     "output_type": "execute_result"
    }
   ],
   "source": [
    "current_message"
   ]
  },
  {
   "cell_type": "code",
   "execution_count": 93,
   "metadata": {},
   "outputs": [
    {
     "name": "stdout",
     "output_type": "stream",
     "text": [
      "==================================\u001b[1m Ai Message \u001b[0m==================================\n",
      "\n",
      "The GPS coordinates for New Delhi are approximately 28.6139° N, 77.2090° E.\n"
     ]
    }
   ],
   "source": [
    "\n",
    "current_message.pretty_print()"
   ]
  },
  {
   "cell_type": "code",
   "execution_count": 94,
   "metadata": {},
   "outputs": [
    {
     "ename": "IndexError",
     "evalue": "list index out of range",
     "output_type": "error",
     "traceback": [
      "\u001b[1;31m---------------------------------------------------------------------------\u001b[0m",
      "\u001b[1;31mIndexError\u001b[0m                                Traceback (most recent call last)",
      "Cell \u001b[1;32mIn[94], line 1\u001b[0m\n\u001b[1;32m----> 1\u001b[0m tool_call_id \u001b[38;5;241m=\u001b[39m \u001b[43mcurrent_message\u001b[49m\u001b[38;5;241;43m.\u001b[39;49m\u001b[43mtool_calls\u001b[49m\u001b[43m[\u001b[49m\u001b[38;5;241;43m0\u001b[39;49m\u001b[43m]\u001b[49m[\u001b[38;5;124m\"\u001b[39m\u001b[38;5;124mid\u001b[39m\u001b[38;5;124m\"\u001b[39m] \n",
      "\u001b[1;31mIndexError\u001b[0m: list index out of range"
     ]
    }
   ],
   "source": [
    "\n",
    "tool_call_id = current_message.tool_calls[0][\"id\"] "
   ]
  },
  {
   "cell_type": "code",
   "execution_count": 78,
   "metadata": {},
   "outputs": [],
   "source": [
    "\n",
    "from langchain_core.messages import AIMessage, ToolMessage"
   ]
  },
  {
   "cell_type": "code",
   "execution_count": 79,
   "metadata": {},
   "outputs": [],
   "source": [
    "\n",
    "answer = \"it is just related to raining which is happing on daily basis\""
   ]
  },
  {
   "cell_type": "code",
   "execution_count": 80,
   "metadata": {},
   "outputs": [
    {
     "ename": "NameError",
     "evalue": "name 'tool_call_id' is not defined",
     "output_type": "error",
     "traceback": [
      "\u001b[1;31m---------------------------------------------------------------------------\u001b[0m",
      "\u001b[1;31mNameError\u001b[0m                                 Traceback (most recent call last)",
      "Cell \u001b[1;32mIn[80], line 2\u001b[0m\n\u001b[0;32m      1\u001b[0m new_messages \u001b[38;5;241m=\u001b[39m [\n\u001b[1;32m----> 2\u001b[0m     ToolMessage(content\u001b[38;5;241m=\u001b[39manswer, tool_call_id\u001b[38;5;241m=\u001b[39m\u001b[43mtool_call_id\u001b[49m),\n\u001b[0;32m      3\u001b[0m     AIMessage(content\u001b[38;5;241m=\u001b[39manswer),\n\u001b[0;32m      4\u001b[0m ]\n",
      "\u001b[1;31mNameError\u001b[0m: name 'tool_call_id' is not defined"
     ]
    }
   ],
   "source": [
    "\n",
    "new_messages = [\n",
    "    ToolMessage(content=answer, tool_call_id=tool_call_id),\n",
    "    AIMessage(content=answer),\n",
    "]"
   ]
  },
  {
   "cell_type": "code",
   "execution_count": null,
   "metadata": {},
   "outputs": [],
   "source": []
  }
 ],
 "metadata": {
  "kernelspec": {
   "display_name": "Python 3",
   "language": "python",
   "name": "python3"
  },
  "language_info": {
   "codemirror_mode": {
    "name": "ipython",
    "version": 3
   },
   "file_extension": ".py",
   "mimetype": "text/x-python",
   "name": "python",
   "nbconvert_exporter": "python",
   "pygments_lexer": "ipython3",
   "version": "3.11.0"
  }
 },
 "nbformat": 4,
 "nbformat_minor": 2
}
